{
  "cells": [
    {
      "cell_type": "markdown",
      "metadata": {
        "id": "440yOy2MpX5e"
      },
      "source": [
        "# Algoritmos y Estructuras de Datos. \n",
        "\n",
        "## - Clase 1 - Parte 2 - Contenedores - "
      ]
    },
    {
      "cell_type": "markdown",
      "metadata": {
        "id": "9WseXGxhpX5y"
      },
      "source": [
        "Cuerpo Docente: Dr. Diego Agustín Ambrossio. \n",
        "\n",
        "Material adaptado de la cátedra \"Introduction to Programming\" de la Université du Luxembourg. \n",
        "Gracias a mis estimados colegas Dr. Giovanni Casini (ISTI-CNR) y Dr. Xavier Parent (TU Wien). "
      ]
    },
    {
      "cell_type": "markdown",
      "metadata": {
        "id": "azrgF-tApX56"
      },
      "source": [
        "En la lección anterior hemos visto:\n",
        "\n",
        "- Algunos typos de datos basicos:\n",
        "    - Enteros Integers (int)\n",
        "    - Números Reales (float)\n",
        "    - Valores Booleanos (bool)\n",
        "    - Cademas de caracte\n",
        "    res (strings, 'str')\n",
        "    \n",
        "- Algunas Funciones:\n",
        "    - input\n",
        "    - print\n",
        "\n",
        "- Condicionales: $\\normalsize \\color{green}{\\textsf{if, elif, else}}$\n"
      ]
    },
    {
      "cell_type": "markdown",
      "metadata": {
        "id": "uDPJVUHqpX59"
      },
      "source": [
        "Hoy veremos los siguiente:\n",
        "\n",
        "- Direfencias entre ${\\textit funciones}$ y ${\\textit métodos}$ \n",
        "\n",
        "-  Más de Tipos de Datos:\n",
        "    - Enteros Integers (int)\n",
        "    - Números Reales (float)\n",
        "    - Valores Booleanos (bool)\n",
        "    - Cademas de caracteres (strings, 'str')\n",
        "    - Tuplas (tuple)\n",
        "    - Conjuntos (set)\n",
        "    - Diccionarios (dict)\n",
        "    - Listas\n",
        "    \n",
        "- Definición y uso de Rangos\n",
        "- Ciclos y Repeticiones $\\normalsize \\color{green}{\\textsf{for, while}}$\n"
      ]
    },
    {
      "cell_type": "markdown",
      "metadata": {
        "id": "i2ex_zABpX6H"
      },
      "source": [
        "# Preliminares: Funciones vs. Métodos"
      ]
    },
    {
      "cell_type": "markdown",
      "metadata": {
        "id": "EUDd7IaApX6J"
      },
      "source": [
        "En Python tenemos dos formas diferentes de retornar valores o realizar acciones, en base a parámetros enviados. Podemos llamar a una $\\textit función$ o usar un $\\textit método$ (luego quedará mas claro cuando veamos como Python define y utiliza objetos).    \n",
        "\n",
        "Ya hemos visto algunos ejemplos de funciones (i.e. $\\normalsize \\color{green}{\\textsf{print}}$, $\\normalsize \\color{green}{\\textsf{input}}$, $\\normalsize \\color{green}{\\textsf{len}}$, $\\dots$). \n",
        "Un *método*, sin embargo, es especifico a un tipo de datos y son invocados de forma diferente. \n",
        "\n",
        "Sea $\\texttt{'obj'}$ un objeto de tipo $\\texttt{type}$ y $\\texttt{method}$ es un método asociado al tipo $\\texttt{type}$, entonces invocamos al método de la siguiente forma: $\\texttt{obj.method}(\\cdot)$, donde, $(\\cdot)$ puede (o no) contener algunos parámetros.     "
      ]
    },
    {
      "cell_type": "code",
      "execution_count": null,
      "metadata": {
        "id": "H81FSZhepX6K",
        "outputId": "1f43d6fd-3406-4356-9c89-16b84f166d1a",
        "colab": {
          "base_uri": "https://localhost:8080/"
        }
      },
      "outputs": [
        {
          "output_type": "stream",
          "name": "stdout",
          "text": [
            "4\n"
          ]
        },
        {
          "output_type": "execute_result",
          "data": {
            "text/plain": [
              "1"
            ]
          },
          "metadata": {},
          "execution_count": 1
        }
      ],
      "source": [
        "c='ertl'\n",
        "print(len(c)) # Función\n",
        "c.index('r')  # Método"
      ]
    },
    {
      "cell_type": "markdown",
      "metadata": {
        "id": "nODul7o6pX6W"
      },
      "source": [
        "De forma práctica, no hay muchas diferencias, entre llamar a una función o invocar un método. \n",
        "Las funciones son definidas como objetos independientes, mientras que, un método esta siempre definido dentro de un tipo de objeto (i.e. una clase, \"template\" del objeto) y \"no existe\" fuera de dicho tipo (clase del objeto). \n",
        "Un método, puede tener el mismo nombre, ya que cada será distinto para cada tipo de objeto. De esta manera podemos proteger ciertos nombres de variables, funciones, etc. \n",
        "Ejemplo:\n",
        " - Podemos definir en nuestro código $\\texttt{count=3}$, sin embargo $\\texttt{c.count(val)}$ retornara el numero de ocurrencias del parámetro $\\texttt{val}$ en la variable $\\texttt{c}$.\n",
        " - En cambio, si definimos $\\texttt{len=2}$, luego cualquier uso de la función $\\normalsize \\color{green}{\\textsf{len}}\\texttt{(c)}$ retornara un error. \n"
      ]
    },
    {
      "cell_type": "code",
      "execution_count": null,
      "metadata": {
        "id": "G9aCAVFipX6d"
      },
      "outputs": [],
      "source": [
        "#len=2\n",
        "#len(c) #Ya no tendrá sentido invocar a la función.\n",
        "        #Hemos 'sobrescrito' el nombre de la función len(.),\n",
        "        #ahora el \"nombre de función 'len'\" esta asociado a un nombre de variable ('len'). "
      ]
    },
    {
      "cell_type": "markdown",
      "metadata": {
        "id": "xcFlA3H5pX6f"
      },
      "source": [
        "Las funciones y métodos, pueden retornar un valor (e.g. $\\normalsize \\color{green}{\\textsf{len}}$) o relizar una acción (e.g. $\\normalsize \\color{green}{\\textsf{print}}$). También puede modificar el valor (o valores) de algunos objetos. \n"
      ]
    },
    {
      "cell_type": "code",
      "execution_count": null,
      "metadata": {
        "id": "IVuUEOJbpX6g",
        "outputId": "bc315cb0-8c06-4b1f-ad73-a35fa8605681",
        "colab": {
          "base_uri": "https://localhost:8080/"
        }
      },
      "outputs": [
        {
          "output_type": "stream",
          "name": "stdout",
          "text": [
            "ertl\n"
          ]
        },
        {
          "output_type": "execute_result",
          "data": {
            "text/plain": [
              "NoneType"
            ]
          },
          "metadata": {},
          "execution_count": 4
        }
      ],
      "source": [
        "type(print(c)) # La función print no tiene tipo."
      ]
    },
    {
      "cell_type": "markdown",
      "metadata": {
        "id": "PhE_llzhpX6g"
      },
      "source": [
        "# Definición de Contenedores"
      ]
    },
    {
      "cell_type": "markdown",
      "metadata": {
        "id": "P6r5jQtqpX6h"
      },
      "source": [
        "Informalmente, un *'contenedor'* es un \"tipo de objeto\" que contiene *'objetos'*. Python nos provee con distintos tipos de contenedores predefinidos.  \n",
        "\n",
        "A continuación veremos algunas propiedades de los contenedores más usados. \n",
        "\n",
        "Finalmente, haremos una rápida comparación de estos distintos tipos de estructuras de datos.   \n"
      ]
    },
    {
      "cell_type": "markdown",
      "source": [
        "\n",
        "\n",
        "---\n",
        "\n"
      ],
      "metadata": {
        "id": "qmYTyrB9W0D0"
      }
    },
    {
      "cell_type": "markdown",
      "metadata": {
        "id": "OHHWZN48pX6i"
      },
      "source": [
        "## Cadena de Carácteres (Strings)"
      ]
    },
    {
      "cell_type": "markdown",
      "metadata": {
        "id": "B9GM6Ay3pX6j"
      },
      "source": [
        "Una cadena de carácteres (string) es una secuencia ordenada de carácteres. El $i$-ésimo elemento del string $\\texttt{c}$ puede ser accesado (siempre que el índice no este fuera de rango) escribiendo $\\texttt{c[i]}$. \n"
      ]
    },
    {
      "cell_type": "code",
      "execution_count": null,
      "metadata": {
        "id": "SXpXHpcxpX6j",
        "outputId": "7b6e268a-980c-4281-807b-8e815134490b",
        "colab": {
          "base_uri": "https://localhost:8080/"
        }
      },
      "outputs": [
        {
          "output_type": "stream",
          "name": "stdout",
          "text": [
            "n t r o d\n",
            "ó\n"
          ]
        }
      ],
      "source": [
        "c='Introducción'\n",
        "print(c[1],c[2],c[3],c[4],c[5])# Los índices comienzan en 0. \n",
        "print(c[-2]) # Python nos permite el uso de 'indices negativos'. "
      ]
    },
    {
      "cell_type": "markdown",
      "metadata": {
        "id": "_ErYt4K1pX6l"
      },
      "source": [
        "**En Python, todos los indices comienzan en 0**. "
      ]
    },
    {
      "cell_type": "code",
      "execution_count": null,
      "metadata": {
        "id": "UkdLXf9qpX6l"
      },
      "outputs": [],
      "source": [
        "len(c) # La función len nos devuelve la longitud (cardinalidad) del contenedor."
      ]
    },
    {
      "cell_type": "code",
      "execution_count": null,
      "metadata": {
        "id": "xzt17KSgpX6m",
        "outputId": "6bdac388-e16a-4501-c96e-549f022dfa6e",
        "colab": {
          "base_uri": "https://localhost:8080/"
        }
      },
      "outputs": [
        {
          "output_type": "stream",
          "name": "stdout",
          "text": [
            "  E j e m p l o\n",
            "  0 1 2 3 4 5 6\n",
            "- 7 6 5 4 3 2 1\n"
          ]
        }
      ],
      "source": [
        "c='Ejemplo'\n",
        "print(' ',c[0],c[1],c[2],c[3],c[4],c[5],c[6])\n",
        "print(' ',0,1,2,3,4,5,6)\n",
        "print('-',7,6,5,4,3,2,1)"
      ]
    },
    {
      "cell_type": "code",
      "execution_count": null,
      "metadata": {
        "id": "stoC_YeEpX6o",
        "outputId": "de85f404-9820-4df0-f7d8-cf76bfc26840",
        "colab": {
          "base_uri": "https://localhost:8080/",
          "height": 35
        }
      },
      "outputs": [
        {
          "output_type": "execute_result",
          "data": {
            "text/plain": [
              "'Ejemplo de unión de carácteres'"
            ],
            "application/vnd.google.colaboratory.intrinsic+json": {
              "type": "string"
            }
          },
          "metadata": {},
          "execution_count": 10
        }
      ],
      "source": [
        "c='Ejemplo'\n",
        "c+=' de unión de carácteres' # El commando '+' applicado a una cadena de carácteres \n",
        "                             # es usado para la concatenación.\n",
        "c"
      ]
    },
    {
      "cell_type": "markdown",
      "metadata": {
        "id": "bpme1y7OpX6p"
      },
      "source": [
        "Ya habrán notado que para definir cadenas de carácteres podemos usar comillas simples $\\texttt{' '}$ o comillas dobles $\\texttt{\" \"}$. No hay diferencia entre ambas de manera formal. Sin embargo, la convención normal es la siguiente:\n",
        "\n",
        "- Utilizamos comillas dobles cuando queremos imprimir una frase, e.g. $\\normalsize \\color{green}{\\textsf{print}}$ o $\\normalsize \\color{green}{\\textsf{input}}$.\n",
        "\n",
        "- Utilizamos comillas simples cuando definimos una variable del tipo cadena de carácteres (un string).\n"
      ]
    },
    {
      "cell_type": "code",
      "execution_count": null,
      "metadata": {
        "id": "ITw1MepIpX6p",
        "outputId": "988fdd2e-486d-47ef-f7b7-321b4aabb831",
        "colab": {
          "base_uri": "https://localhost:8080/"
        }
      },
      "outputs": [
        {
          "output_type": "stream",
          "name": "stdout",
          "text": [
            "un string\n",
            "un string\n",
            "un string muy muy muy muy muy muy muy muy \n",
            "muy muy muy muy muy muy muy muy\n",
            "muy muy muy muy muy muy muy muy largo \n",
            "un string muy muy muy muy muy muy muy muy \n",
            "muy muy muy muy muy muy muy muy\n",
            "muy muy muy muy muy muy muy muy largo \n"
          ]
        }
      ],
      "source": [
        "#Uso de una, dos, o tres comillas simples, o dobles.\n",
        "c='un string'\n",
        "print(c)\n",
        "c=\"un string\" #las comillas simples, o dobles, tienen el mismo efecto.\n",
        "print(c)\n",
        "\n",
        "c='''un string muy muy muy muy muy muy muy muy \n",
        "muy muy muy muy muy muy muy muy\n",
        "muy muy muy muy muy muy muy muy largo '''   #Las triple comillas, simples o dobles, nos permiten agregar de forma directa\n",
        "                                            #un salto de linea.\n",
        "print(c)\n",
        "c=\"\"\"un string muy muy muy muy muy muy muy muy \n",
        "muy muy muy muy muy muy muy muy\n",
        "muy muy muy muy muy muy muy muy largo \"\"\"\n",
        "print(c)"
      ]
    },
    {
      "cell_type": "code",
      "execution_count": null,
      "metadata": {
        "id": "j1YLGDBKpX6q",
        "outputId": "d13f1b81-b124-4973-f4d2-ef7f1ecc066b",
        "colab": {
          "base_uri": "https://localhost:8080/"
        }
      },
      "outputs": [
        {
          "output_type": "stream",
          "name": "stdout",
          "text": [
            "True\n",
            "True\n",
            "False\n"
          ]
        }
      ],
      "source": [
        "#Pertenencia, ulitzamos el operador \"in\" (es decir, si un caracter o un string se encuentra dentro de la cadena de caracteres que estamos evaluando)\n",
        "\n",
        "print('s' in c)\n",
        "print('muy' in c)\n",
        "print('z' in c)"
      ]
    },
    {
      "cell_type": "code",
      "execution_count": null,
      "metadata": {
        "id": "5Uqs53ehpX6u",
        "outputId": "9ff26014-ab21-44e6-fbfe-83583c438367",
        "colab": {
          "base_uri": "https://localhost:8080/",
          "height": 87
        }
      },
      "outputs": [
        {
          "output_type": "stream",
          "name": "stdout",
          "text": [
            "un string muy muy muy muy muy muy muy muy \n",
            "muy muy muy muy muy muy muy muy\n",
            "muy muy muy muy muy muy muy muy largo \n"
          ]
        },
        {
          "output_type": "execute_result",
          "data": {
            "text/plain": [
              "' string '"
            ],
            "application/vnd.google.colaboratory.intrinsic+json": {
              "type": "string"
            }
          },
          "metadata": {},
          "execution_count": 17
        }
      ],
      "source": [
        "#Podemos accedder a un sub-conjunto de los valores del string. \n",
        "print(c)\n",
        "c[2:10]"
      ]
    },
    {
      "cell_type": "markdown",
      "metadata": {
        "id": "aO0fuhdnpX6t"
      },
      "source": [
        "**No se puede** cambiar el valor del contenido del la variable $\\texttt{c}$, mediante indexación. "
      ]
    },
    {
      "cell_type": "code",
      "execution_count": null,
      "metadata": {
        "id": "Ez5BBWhhpX6u",
        "outputId": "2c4f076c-33dd-43b3-9ddc-12f7a2c06e63",
        "colab": {
          "base_uri": "https://localhost:8080/",
          "height": 183
        }
      },
      "outputs": [
        {
          "output_type": "error",
          "ename": "TypeError",
          "evalue": "ignored",
          "traceback": [
            "\u001b[0;31m---------------------------------------------------------------------------\u001b[0m",
            "\u001b[0;31mTypeError\u001b[0m                                 Traceback (most recent call last)",
            "\u001b[0;32m<ipython-input-16-c3a3257e72b6>\u001b[0m in \u001b[0;36m<module>\u001b[0;34m()\u001b[0m\n\u001b[1;32m      1\u001b[0m \u001b[0;31m#La asignación de un valor utilizando el indice esta prohibido.\u001b[0m\u001b[0;34m\u001b[0m\u001b[0;34m\u001b[0m\u001b[0;34m\u001b[0m\u001b[0m\n\u001b[0;32m----> 2\u001b[0;31m \u001b[0mc\u001b[0m\u001b[0;34m[\u001b[0m\u001b[0;36m2\u001b[0m\u001b[0;34m]\u001b[0m\u001b[0;34m=\u001b[0m\u001b[0;34m's'\u001b[0m\u001b[0;34m\u001b[0m\u001b[0;34m\u001b[0m\u001b[0m\n\u001b[0m",
            "\u001b[0;31mTypeError\u001b[0m: 'str' object does not support item assignment"
          ]
        }
      ],
      "source": [
        "#La asignación de un valor utilizando el indice esta prohibido.\n",
        "c[2]='s'"
      ]
    },
    {
      "cell_type": "markdown",
      "metadata": {
        "id": "4i7bzmUxpX6v"
      },
      "source": [
        "Aquí podemos ver algunos métodos útiles (para más información ulilizar la función $\\normalsize \\color{green}{\\textsf{help}}\\texttt{(str)}$ o referirse a la documentación de Python).\n",
        "\n",
        "Sea $\\texttt{c}$ una cadena de carácteres:\n",
        "\n",
        "- $\\texttt{c * n}$ (donde $\\texttt{n}$ es un entero) retornará $\\texttt{n}$ copias de $\\texttt{c}$ concatenadas. Es equivalente a $\\underbrace{\\texttt{c + } \\cdots \\texttt{ + c}}_{\\texttt{n } \\text{ veces}}$. \n",
        "\n",
        "- $c.\\texttt{find('car')}$  retorna el primer indice $\\texttt{i}$ (si es que existe) para el cual $\\texttt{c[i]='car'}$ (es decir, busca la primer aparición de esa cadena). \n",
        "\n",
        "- Podemos comparar cadenas de carácteres. Para esto se utiliza el orden lexicográfico (por ejemplo, el diccionario está ordenado lexicográficamente).\n",
        "\n",
        "- $\\texttt{c.count(st)}$ cuenta el número de occurrencias del string $\\texttt{st}$ en $\\texttt{c}$ (sin contar los que se superponen). \n",
        "\n",
        "- $\\texttt{c.replace(st1,st2)}$ retornará una copia de $\\texttt{c}$ donde cada ocurrencia del string $\\texttt{'st1'}$ ha sido reeplazada por $\\texttt{'st2'}$.\n",
        "\n",
        "- $\\texttt{c.format(args[])}$ realizará inserciones en el string $\\texttt{c}$  donde cada ocurrencia de $\\texttt{{}}$ serán reemplazadas por el argumento de entrada correspondiente."
      ]
    },
    {
      "cell_type": "code",
      "execution_count": null,
      "metadata": {
        "id": "fDbSd9cppX6w",
        "outputId": "cbf2a444-f2f9-4d6e-fe94-57a5fc157793",
        "colab": {
          "base_uri": "https://localhost:8080/"
        }
      },
      "outputs": [
        {
          "output_type": "stream",
          "name": "stdout",
          "text": [
            "111111\n"
          ]
        },
        {
          "output_type": "execute_result",
          "data": {
            "text/plain": [
              "3"
            ]
          },
          "metadata": {},
          "execution_count": 18
        }
      ],
      "source": [
        "#Ejemplos\n",
        "c=3*'11'\n",
        "print(c)\n",
        "c.count('11')"
      ]
    },
    {
      "cell_type": "code",
      "execution_count": null,
      "metadata": {
        "id": "zawTmNCmpX6x",
        "outputId": "17908cba-108f-4aa7-edc6-4b62b6fa5399",
        "colab": {
          "base_uri": "https://localhost:8080/"
        }
      },
      "outputs": [
        {
          "output_type": "stream",
          "name": "stdout",
          "text": [
            "ababab\n"
          ]
        }
      ],
      "source": [
        "c=c.replace('11','ab')\n",
        "print(c)"
      ]
    },
    {
      "cell_type": "code",
      "execution_count": null,
      "metadata": {
        "id": "dhw8rvy8pX6y",
        "outputId": "f04f1162-12ed-424b-9997-a3e3665b6f9f",
        "colab": {
          "base_uri": "https://localhost:8080/"
        }
      },
      "outputs": [
        {
          "output_type": "stream",
          "name": "stdout",
          "text": [
            "Los enteros 4 y 2 son pares. 4 \n",
            "Los enteros 0 y 2 son pares. algo \n"
          ]
        }
      ],
      "source": [
        "#El método \"format\" nos permite realizar inserciones en un string. \n",
        "\n",
        "c=\"Los enteros {1} y {0} son pares. {1} \"\n",
        "\n",
        "print(c.format(2,4)) # Inserta los valores en el string, en el lugar reservado\n",
        "                     # por el número de argumento entre llaves.\n",
        "    \n",
        "c=\"Los enteros {} y {} son pares. {} \"\n",
        "print(c.format(0,2,'algo'))  # Inserción directa (posicional) de valores en un string. "
      ]
    },
    {
      "cell_type": "markdown",
      "source": [
        "\n",
        "\n",
        "---\n",
        "\n"
      ],
      "metadata": {
        "id": "2eZkZFyGWwkL"
      }
    },
    {
      "cell_type": "markdown",
      "metadata": {
        "id": "KXrH7820pX7t"
      },
      "source": [
        "## Tuplas"
      ]
    },
    {
      "cell_type": "markdown",
      "metadata": {
        "id": "pJChGFb7pX7u"
      },
      "source": [
        "Una *tupla* es una secuencia finita de objetos, los cuales pueden ser de distintos tipos. Generalmente, definimos una tupla, escribiendo una secuencia de objetos entre *paréntesis* y separados entre *comas*. Esta es una estructura de datos *rígida*, es decir, no podemos modificar la estructura de una tupla.\n"
      ]
    },
    {
      "cell_type": "code",
      "execution_count": null,
      "metadata": {
        "id": "_hkAmXQdpX7z",
        "outputId": "3a71d336-036f-4fb6-e103-b18972c01f3f",
        "colab": {
          "base_uri": "https://localhost:8080/"
        }
      },
      "outputs": [
        {
          "output_type": "execute_result",
          "data": {
            "text/plain": [
              "tuple"
            ]
          },
          "metadata": {},
          "execution_count": 24
        }
      ],
      "source": [
        "# Definición de una tupla.\n",
        "x=(0,1,2,'obj',(1,2))\n",
        "# Tipo\n",
        "type(x)"
      ]
    },
    {
      "cell_type": "markdown",
      "metadata": {
        "id": "Ujx9yzT2V8FF"
      },
      "source": [
        "Sin embargo, las tuplas pueden ser concatenadas, de manera similar a la concatenación de strings.\n",
        "\n",
        "Podemos obtener la logitud de una tupla, utilizando la función $\\normalsize \\color{green}{\\textsf{len}}$. \n",
        "\n",
        "También podemos acceder a los elementos de la tupla usando indices. \n"
      ]
    },
    {
      "cell_type": "code",
      "execution_count": null,
      "metadata": {
        "id": "OzWQPpRKpX73",
        "outputId": "313e5eac-6cef-4a4d-a0f9-31849dc31893",
        "colab": {
          "base_uri": "https://localhost:8080/"
        }
      },
      "outputs": [
        {
          "output_type": "execute_result",
          "data": {
            "text/plain": [
              "(0, 1, 2, 'obj', (1, 2), 2, 3, 4)"
            ]
          },
          "metadata": {},
          "execution_count": 27
        }
      ],
      "source": [
        "# Concatenación\n",
        "x=x+(2,3,4)\n",
        "x"
      ]
    },
    {
      "cell_type": "code",
      "execution_count": null,
      "metadata": {
        "id": "SRZ9dsBvpX70",
        "outputId": "d2d42618-430f-476d-94b7-0316113fe607",
        "colab": {
          "base_uri": "https://localhost:8080/"
        }
      },
      "outputs": [
        {
          "output_type": "execute_result",
          "data": {
            "text/plain": [
              "5"
            ]
          },
          "metadata": {},
          "execution_count": 25
        }
      ],
      "source": [
        "# Longitud de la tupla\n",
        "len(x)"
      ]
    },
    {
      "cell_type": "code",
      "execution_count": null,
      "metadata": {
        "id": "ACbi4rzypX72",
        "outputId": "b268717b-6438-4691-b920-7a11731148be",
        "colab": {
          "base_uri": "https://localhost:8080/"
        }
      },
      "outputs": [
        {
          "output_type": "execute_result",
          "data": {
            "text/plain": [
              "1"
            ]
          },
          "metadata": {},
          "execution_count": 26
        }
      ],
      "source": [
        "# Acceso mediante indices\n",
        "x[1]"
      ]
    },
    {
      "cell_type": "code",
      "execution_count": null,
      "metadata": {
        "id": "2Yr7h1lZpX74",
        "outputId": "b600b172-74b7-48ee-ea0a-0b515f294dfe",
        "colab": {
          "base_uri": "https://localhost:8080/",
          "height": 183
        }
      },
      "outputs": [
        {
          "output_type": "error",
          "ename": "TypeError",
          "evalue": "ignored",
          "traceback": [
            "\u001b[0;31m---------------------------------------------------------------------------\u001b[0m",
            "\u001b[0;31mTypeError\u001b[0m                                 Traceback (most recent call last)",
            "\u001b[0;32m<ipython-input-30-77727d3eca3f>\u001b[0m in \u001b[0;36m<module>\u001b[0;34m()\u001b[0m\n\u001b[1;32m      1\u001b[0m \u001b[0;31m# No podemos asignar valores directamente usando indices (al igual que con los strings)\u001b[0m\u001b[0;34m\u001b[0m\u001b[0;34m\u001b[0m\u001b[0;34m\u001b[0m\u001b[0m\n\u001b[0;32m----> 2\u001b[0;31m \u001b[0mx\u001b[0m\u001b[0;34m[\u001b[0m\u001b[0;36m1\u001b[0m\u001b[0;34m]\u001b[0m\u001b[0;34m=\u001b[0m\u001b[0;36m100\u001b[0m\u001b[0;34m\u001b[0m\u001b[0;34m\u001b[0m\u001b[0m\n\u001b[0m",
            "\u001b[0;31mTypeError\u001b[0m: 'tuple' object does not support item assignment"
          ]
        }
      ],
      "source": [
        "# No podemos asignar valores directamente usando indices (al igual que con los strings)\n",
        "x[1]=100"
      ]
    },
    {
      "cell_type": "markdown",
      "source": [
        "Dos tuplas pueden ser comparadas mediantes los operadores lógicos."
      ],
      "metadata": {
        "id": "WNyJQ7meWeKT"
      }
    },
    {
      "cell_type": "code",
      "execution_count": null,
      "metadata": {
        "id": "haXGgWGrpX75",
        "outputId": "c53b2f20-c7af-4d7f-e931-ec946871b574",
        "colab": {
          "base_uri": "https://localhost:8080/"
        }
      },
      "outputs": [
        {
          "output_type": "execute_result",
          "data": {
            "text/plain": [
              "True"
            ]
          },
          "metadata": {},
          "execution_count": 29
        }
      ],
      "source": [
        "(0,1,3)<(1,1,0)"
      ]
    },
    {
      "cell_type": "markdown",
      "metadata": {
        "id": "L08zd_ElpX75"
      },
      "source": [
        "No hay muchos métodos específicos asociados a las tuplas. \n",
        "\n",
        "- $\\texttt{x.count(obj)}$ retorna el número de occurencias del objeto $\\texttt{'obj'}$ en $\\texttt{'x'}$. \n",
        "- $\\texttt{x.index(obj)}$ retorna el indice de la primer occurencia del objeto $\\texttt{'obj'}$ en $\\texttt{'x'}$. "
      ]
    },
    {
      "cell_type": "code",
      "execution_count": null,
      "metadata": {
        "id": "4uD8FqaepX76"
      },
      "outputs": [],
      "source": [
        "print(x.count(2))\n",
        "print(x.index(2))"
      ]
    },
    {
      "cell_type": "markdown",
      "source": [
        "\n",
        "\n",
        "---\n",
        "\n"
      ],
      "metadata": {
        "id": "yk_NMEE8W2xA"
      }
    },
    {
      "cell_type": "markdown",
      "metadata": {
        "id": "dUChUUT8pX78"
      },
      "source": [
        "## Conjuntos"
      ]
    },
    {
      "cell_type": "markdown",
      "metadata": {
        "id": "F4Z3-8JapX79"
      },
      "source": [
        "Un *conjunto* es una colección finita de objetos denotados entre *llaves* y separados por *comas*. Los conjuntos tienen (deben cumplir) todas las propiedades de los conjuntos matemáticos.\n"
      ]
    },
    {
      "cell_type": "code",
      "execution_count": null,
      "metadata": {
        "id": "Hp7zrwEVpX79",
        "outputId": "3f56ba16-8387-4689-904e-2f2b93a9dc2a",
        "colab": {
          "base_uri": "https://localhost:8080/"
        }
      },
      "outputs": [
        {
          "output_type": "execute_result",
          "data": {
            "text/plain": [
              "set"
            ]
          },
          "metadata": {},
          "execution_count": 34
        }
      ],
      "source": [
        "# Definición de un conjunto.\n",
        "A={1,2,4,5,6}\n",
        "# Tipo.\n",
        "type(A)"
      ]
    },
    {
      "cell_type": "code",
      "execution_count": null,
      "metadata": {
        "id": "Yaa9NFxopX8L",
        "outputId": "1e798761-c868-4bb4-8cc6-c9505fe977bb",
        "colab": {
          "base_uri": "https://localhost:8080/"
        }
      },
      "outputs": [
        {
          "output_type": "execute_result",
          "data": {
            "text/plain": [
              "True"
            ]
          },
          "metadata": {},
          "execution_count": 38
        }
      ],
      "source": [
        "# Al igual que en los conjuntos matemáticos, no aceptan repticiones.\n",
        "A=={1,1,2,2,5,5,4,4,4,6}"
      ]
    },
    {
      "cell_type": "code",
      "execution_count": null,
      "metadata": {
        "id": "w9oBjC-wpX8Q",
        "outputId": "b96ea541-68bc-414d-a803-9aabafa2f307",
        "colab": {
          "base_uri": "https://localhost:8080/",
          "height": 183
        }
      },
      "outputs": [
        {
          "output_type": "error",
          "ename": "TypeError",
          "evalue": "ignored",
          "traceback": [
            "\u001b[0;31m---------------------------------------------------------------------------\u001b[0m",
            "\u001b[0;31mTypeError\u001b[0m                                 Traceback (most recent call last)",
            "\u001b[0;32m<ipython-input-39-ffa578405f47>\u001b[0m in \u001b[0;36m<module>\u001b[0;34m()\u001b[0m\n\u001b[1;32m      1\u001b[0m \u001b[0;31m# Los conjuntos no soportan indexación directa.\u001b[0m\u001b[0;34m\u001b[0m\u001b[0;34m\u001b[0m\u001b[0;34m\u001b[0m\u001b[0m\n\u001b[0;32m----> 2\u001b[0;31m \u001b[0mA\u001b[0m\u001b[0;34m[\u001b[0m\u001b[0;36m1\u001b[0m\u001b[0;34m]\u001b[0m\u001b[0;34m\u001b[0m\u001b[0;34m\u001b[0m\u001b[0m\n\u001b[0m",
            "\u001b[0;31mTypeError\u001b[0m: 'set' object is not subscriptable"
          ]
        }
      ],
      "source": [
        "# Los conjuntos no soportan indexación directa. \n",
        "A[1]"
      ]
    },
    {
      "cell_type": "code",
      "execution_count": null,
      "metadata": {
        "id": "eA50HkfapX8R",
        "outputId": "1c09f4ca-5ac4-4284-c2f2-04a500be7c7b",
        "colab": {
          "base_uri": "https://localhost:8080/"
        }
      },
      "outputs": [
        {
          "output_type": "execute_result",
          "data": {
            "text/plain": [
              "{' ', 'c', 'e', 'j', 'n', 'o', 'r', 's', 't', 'u', 'á'}"
            ]
          },
          "metadata": {},
          "execution_count": 40
        }
      ],
      "source": [
        "# Se puede convertir un string a un conjunto (de letras).\n",
        "c='será un conjunto'\n",
        "set(c)"
      ]
    },
    {
      "cell_type": "code",
      "execution_count": null,
      "metadata": {
        "id": "iYtdsShypX8S",
        "outputId": "7f23ad0c-d48f-4516-ba1a-64b24899b6b9",
        "colab": {
          "base_uri": "https://localhost:8080/"
        }
      },
      "outputs": [
        {
          "output_type": "execute_result",
          "data": {
            "text/plain": [
              "5"
            ]
          },
          "metadata": {},
          "execution_count": 41
        }
      ],
      "source": [
        "# La función len nos retorna la cardinalidad del conjunto.\n",
        "len(A)"
      ]
    },
    {
      "cell_type": "markdown",
      "metadata": {
        "id": "l-7PSx9NpX8T"
      },
      "source": [
        "Aquí hemos provisto una lista (no completa) de métodos útiles para el manejo de conjuntos: \n",
        "\n",
        "\n",
        "- $\\texttt{A.intersection(B)}$ retorna la intersección de los conjuntos $\\texttt{A}$ y $\\texttt{B}$. \n",
        "- $\\texttt{A.union(B)}$ retorna la unión de los conjuntos $\\texttt{A}$ y $\\texttt{B}$. \n",
        "- $\\texttt{A.difference(B)}$ retorna la diferencia simetrica de conjuntos ($\\texttt{A}\\cap \\texttt{B}^c$). \n",
        "- $\\texttt{A.copy}()$ retorna una copia del conjunto $\\texttt{A}$. \n",
        "- Podemos comparar dos conjuntos (seguiendo el orden de inclusión). \n",
        "\n",
        "\n",
        "También podemos realizar cambios directamente sobre un conjunto: \n",
        "\n",
        "- $\\texttt{A.add(a)}$ reemplaza el conjunto $\\texttt{A}$ por $\\texttt{A} \\cup \\{a\\}$ (no tiene efecto si el elemento $a$ pertenece al conjunto $\\texttt{A}$). \n",
        "- $\\texttt{A.discard(a)}$ reeplaza el conjunto $\\texttt{A}$ por $\\texttt{A}$ removiendo el elemento $a$ (no tiene efecto si el elemento $a$ no pertenece al conjunto $\\texttt{A}$). \n",
        "- $\\texttt{A.difference_update(B)}$ reemplazara el conjunto $\\texttt{A}$ por $\\texttt{A}\\cap \\texttt{B}^c$. \n"
      ]
    },
    {
      "cell_type": "code",
      "execution_count": null,
      "metadata": {
        "id": "kikI3VUrpX8U",
        "outputId": "f9ff460f-2bda-4741-eb48-61a78261c080",
        "colab": {
          "base_uri": "https://localhost:8080/"
        }
      },
      "outputs": [
        {
          "output_type": "stream",
          "name": "stdout",
          "text": [
            "{1, 2, 4} {1, 2, 4}\n",
            "{1, 2, 4} {1, 4}\n"
          ]
        }
      ],
      "source": [
        "A={1,2,4}\n",
        "B=A.copy()\n",
        "print(A,B)\n",
        "B.discard(2)\n",
        "print(A,B)"
      ]
    },
    {
      "cell_type": "markdown",
      "metadata": {
        "id": "VE7c35aYpX8U"
      },
      "source": [
        "Una manera útil de definir conjuntos matemáticamente es por comprensión (en vez de definirlos por \"extensión\") i.e. $\\texttt{B:=}\\{\\texttt{f(x)}\\mid \\texttt{x} \\in \\texttt{A}\\}$. En Python lo escribimos es la siguiente forma: \n",
        "\n",
        "$$\\texttt{B=} \\{ \\texttt{funcion(x)} \\normalsize \\color{green}{\\textsf{ for }} \\texttt{ x } \\normalsize \\color{green}{\\textsf{ in }} \\texttt{A} \\}$$\n"
      ]
    },
    {
      "cell_type": "code",
      "execution_count": null,
      "metadata": {
        "id": "Gs4XKz8zpX8V",
        "outputId": "9632c56b-e0b3-4f5e-fb49-04fb35b2350d",
        "colab": {
          "base_uri": "https://localhost:8080/"
        }
      },
      "outputs": [
        {
          "output_type": "execute_result",
          "data": {
            "text/plain": [
              "{' ', 'c', 'e', 'j', 'n', 'o', 'r', 's', 't', 'u', 'á'}"
            ]
          },
          "metadata": {},
          "execution_count": 43
        }
      ],
      "source": [
        "# Ejemplo de cómo definir un conjunto por comprensión. \n",
        "B={x for x in c}\n",
        "B"
      ]
    },
    {
      "cell_type": "markdown",
      "source": [
        "\n",
        "\n",
        "---\n",
        "\n"
      ],
      "metadata": {
        "id": "pvSrZ1yvYH9s"
      }
    },
    {
      "cell_type": "markdown",
      "metadata": {
        "id": "L9Yoe6R5pX8W"
      },
      "source": [
        "## Diccionarios.\n",
        "\n",
        "Un diccionario o \"tabla associativa\" es un contenedor muy particular y de amplio uso (estan optimizados al igual que cualquier tipo \"hashable\" en Python).\n",
        "Es una colección de items $\\texttt{\"llave:valor\"}$ donde la *\"llave\"* y el *\"valor* pueden ser cualquier tipo de objeto, y los escribimos de la siguiente forma:\n",
        "\n",
        "$$\\texttt{c =} \\{ \\texttt{l}_1 : \\texttt{v}_1 , \\texttt{l}_2 : \\texttt{v}_2, \\ldots \\} $$\n"
      ]
    },
    {
      "cell_type": "code",
      "execution_count": null,
      "metadata": {
        "id": "s53l4WyrpX8W",
        "outputId": "d6a438ae-0f74-42be-e6b9-95a8267de6b1",
        "colab": {
          "base_uri": "https://localhost:8080/"
        }
      },
      "outputs": [
        {
          "output_type": "stream",
          "name": "stdout",
          "text": [
            "<class 'dict'>\n"
          ]
        }
      ],
      "source": [
        "dicc1={'Jean Paul':'jeanpaul@mail.com',\\\n",
        "'Fanny':'fanny@mail.com',\\\n",
        "'Robert':'robert@mail.com',\\\n",
        "'Stephanie': (6812424239),\\\n",
        "0:2}\n",
        "\n",
        "# Tipo\n",
        "print(type(dicc1))"
      ]
    },
    {
      "cell_type": "markdown",
      "metadata": {
        "id": "dJ-xukZ4pX8X"
      },
      "source": [
        "- La función  $\\normalsize \\color{green}{\\textsf{len}}$ nos devuelve la cardinalidad.\n",
        "- No podemos indexarlos de manera habitual, es decir de manera posicional, deberemo usar las llaves de diccionario para retornar los valores correspondientes. \n",
        "- Es posible asignar nuevos valores a una las llaves."
      ]
    },
    {
      "cell_type": "code",
      "execution_count": null,
      "metadata": {
        "id": "8zBVQdg1pX8Y",
        "outputId": "3044e3e1-bdce-46fd-eb40-ca59c23a381a",
        "colab": {
          "base_uri": "https://localhost:8080/"
        }
      },
      "outputs": [
        {
          "output_type": "stream",
          "name": "stdout",
          "text": [
            "5\n",
            "jeanpaul@mail.com\n",
            "2\n"
          ]
        }
      ],
      "source": [
        "dicc1={'Jean Paul':'jeanpaul@mail.com',\\\n",
        "'Fanny':'fanny@mail.com',\\\n",
        "'Robert':'robert@mail.com',\\\n",
        "'Stephanie': (6812424239),\\\n",
        "0:2}\n",
        "# Es posible obtener la cardinalidad. \n",
        "print(len(dicc1))\n",
        "# Los diccionarios no pueden ser indexados posicionalmente. Debemos proveer la llave del valor que deseamos.\n",
        "print(dicc1['Jean Paul'])\n",
        "print(dicc1[0]) # 0 no es una posición, sino una llave"
      ]
    },
    {
      "cell_type": "code",
      "execution_count": null,
      "metadata": {
        "id": "akJvrhBkpX8Y",
        "outputId": "a7c6def4-0a3c-4037-8e43-24b8bc9027b9",
        "colab": {
          "base_uri": "https://localhost:8080/"
        }
      },
      "outputs": [
        {
          "output_type": "execute_result",
          "data": {
            "text/plain": [
              "dict"
            ]
          },
          "metadata": {},
          "execution_count": 48
        }
      ],
      "source": [
        "# Tipo\n",
        "type(dicc1)"
      ]
    },
    {
      "cell_type": "code",
      "execution_count": null,
      "metadata": {
        "id": "htpG0LOspX8Z",
        "outputId": "51a7df85-039a-4a54-d0d0-8364e39f29bf",
        "colab": {
          "base_uri": "https://localhost:8080/"
        }
      },
      "outputs": [
        {
          "output_type": "stream",
          "name": "stdout",
          "text": [
            "{'Jean Paul': 'jeanpaul@mail.com', 'Fanny': 'fanny@mail.com', 'Robert': 'robert@mail.com', 'Stephanie': 'stephanie@mail.com', 0: 2}\n"
          ]
        }
      ],
      "source": [
        "dicc1={'Jean Paul':'jeanpaul@mail.com',\\\n",
        "'Fanny':'fanny@mail.com',\\\n",
        "'Robert':'robert@mail.com',\\\n",
        "'Stephanie': (6812424239),\\\n",
        "0:2}\n",
        "# Podemoms cambiar los valores asociados a un llave mediante asignación.\n",
        "dicc1['Stephanie']='stephanie@mail.com'\n",
        "print(dicc1)"
      ]
    },
    {
      "cell_type": "code",
      "execution_count": null,
      "metadata": {
        "id": "4etCrIG-pX8a",
        "outputId": "4337a621-5b87-45ee-adcb-7f6b1bb8a26e",
        "colab": {
          "base_uri": "https://localhost:8080/"
        }
      },
      "outputs": [
        {
          "output_type": "stream",
          "name": "stdout",
          "text": [
            "{0: 3, 'x': 'x@mail.lu'}\n"
          ]
        }
      ],
      "source": [
        "# Cual es el efecto de tener una llave duplicada?\n",
        "dicc2={0:7,'x':'x@mail.lu', 0:3}\n",
        "print(dicc2)\n",
        "# La segunda (o última) llave definida, sobrescribira el valor anterior."
      ]
    },
    {
      "cell_type": "code",
      "execution_count": null,
      "metadata": {
        "id": "XySqYHiYpX8a",
        "outputId": "f3c73b42-35a2-4d7e-ef28-912b2f0adc8b",
        "colab": {
          "base_uri": "https://localhost:8080/"
        }
      },
      "outputs": [
        {
          "output_type": "execute_result",
          "data": {
            "text/plain": [
              "{0: 2,\n",
              " 'Fanny': 'fanny@mail.com',\n",
              " 'Jean Paul': 'jeanpaul@mail.com',\n",
              " 'Robert': 'robert@mail.com',\n",
              " 'Stephanie': 'stephanie@mail.com'}"
            ]
          },
          "metadata": {},
          "execution_count": 51
        }
      ],
      "source": [
        "# Podemos convertir un diccionario a una tupla\n",
        "tuple(dicc1)\n",
        "# No es posible en el sentido contrario (de tupla a diccionario). \n",
        "dict(dicc1)"
      ]
    },
    {
      "cell_type": "markdown",
      "metadata": {
        "id": "lZ2Q2MaapX8b"
      },
      "source": [
        "Aquí tenemos algunos métodos útiles para usar diccionarios. Sea $\\texttt{dic}$ un diccionario. \n",
        "\n",
        "- $\\texttt{dic.item}()$ retorna una *lista* de los valores en el diccionario (las listas están definidas en la siguiente sección).\n",
        "- $\\texttt{dic.keys}()$ solo retorna los valores de las llaves del diccionario.\n",
        "- $\\texttt{dic.values}()$ solo retorna los valores del diccionario.\n",
        "- $\\texttt{dic.copy}()$ retorna una copia del diccionario $\\texttt{dic}$. \n",
        "- $\\texttt{dic.pop(key)}$ retorna y quita del diccionario el valor que referido por la llave $\\texttt{key}$\n",
        "- $\\texttt{dic.popitem}()$ retorna y quita del diccionario el último item ingresado/añadido.\n",
        "- $\\texttt{dic.update(newdic)}$ actualiza $\\texttt{dic}$ con los valores de otro diccionario $\\texttt{newdic}$, solo para las llaves de $\\texttt{newdic}$ que no están en $\\texttt{dic}$."
      ]
    },
    {
      "cell_type": "markdown",
      "metadata": {
        "id": "xxay4XFxpX8b"
      },
      "source": [
        "- $\\texttt{dic[key]=value}$ \n",
        "\n",
        "Asignará un nuevo valor a la llave $\\texttt{key}$, solo si la llave ya pertenece al diccionario. En caso de que la llave no exista en el diccionario, añadira el nuevo par $\\texttt{(key:value)}$ al diccionario.\n"
      ]
    },
    {
      "cell_type": "code",
      "execution_count": null,
      "metadata": {
        "id": "TvchrP7gpX8c",
        "outputId": "42ac3fac-d840-4f9c-dd5a-478749c68b3e",
        "colab": {
          "base_uri": "https://localhost:8080/"
        }
      },
      "outputs": [
        {
          "output_type": "stream",
          "name": "stdout",
          "text": [
            "{'Jean Paul': 'jeanpaul@mail.com', 'Fanny': 'fanny@mail.com', 'Robert': 'robert@mail.com', 'Stephanie': 'stephanie@mail.com', 0: 2, 'Carl': 'carl@mail.com'}\n"
          ]
        }
      ],
      "source": [
        "dicc1={'Jean Paul':'jeanpaul@mail.com',\\\n",
        "'Fanny':'fanny@mail.com',\\\n",
        "'Robert':'robert@mail.com',\\\n",
        "'Stephanie': (6812424239),\\\n",
        "0:2}\n",
        "dicc1['Stephanie']='stephanie@mail.com'\n",
        "dicc1['Carl']='carl@mail.com'\n",
        "print(dicc1)"
      ]
    },
    {
      "cell_type": "code",
      "execution_count": null,
      "metadata": {
        "id": "DJ4vuwIJpX8c",
        "outputId": "e2a6ff78-854c-4a0d-8b38-fed5669b5c91",
        "colab": {
          "base_uri": "https://localhost:8080/"
        }
      },
      "outputs": [
        {
          "output_type": "stream",
          "name": "stdout",
          "text": [
            "{'Jean Paul': 'jeanpaul@mail.com', 'Fanny': 'fanny@mail.com', 'Robert': 'robert@mail.com', 'Stephanie': 6812424239, 0: 2} {0: 3, 'x': 'x@mail.com'}\n",
            "{'Jean Paul': 'jeanpaul@mail.com', 'Fanny': 'fanny@mail.com', 'Robert': 'robert@mail.com', 'Stephanie': 6812424239, 0: 3, 'x': 'x@mail.com'}\n"
          ]
        }
      ],
      "source": [
        "dicc1={'Jean Paul':'jeanpaul@mail.com',\\\n",
        "'Fanny':'fanny@mail.com',\\\n",
        "'Robert':'robert@mail.com',\\\n",
        "'Stephanie': (6812424239),\\\n",
        "0:2}\n",
        "dicc2={0:7,'x':'x@mail.com',0:3}\n",
        "print(dicc1,dicc2)\n",
        "dicc1.update(dicc2)\n",
        "print(dicc1)"
      ]
    },
    {
      "cell_type": "markdown",
      "source": [
        "\n",
        "\n",
        "---\n",
        "\n"
      ],
      "metadata": {
        "id": "IA28wXSvZaO2"
      }
    },
    {
      "cell_type": "markdown",
      "metadata": {
        "id": "L33KUznApX8d"
      },
      "source": [
        "## Listas\n",
        "\n",
        "Una lista es un contenedor ordenado de objetos (pueden ser de distinto tipo). Lo definimos ente *corchetes* y los objetos separados por *comas*. \n",
        "\n",
        "$$\\texttt{L = [ x, y,  }\\ldots \\texttt{ ]}$$"
      ]
    },
    {
      "cell_type": "code",
      "execution_count": null,
      "metadata": {
        "id": "CSWvf7xlpX8d",
        "outputId": "53137abb-a4e8-4bc9-e40a-45f7d612990a",
        "colab": {
          "base_uri": "https://localhost:8080/"
        }
      },
      "outputs": [
        {
          "output_type": "execute_result",
          "data": {
            "text/plain": [
              "list"
            ]
          },
          "metadata": {},
          "execution_count": 54
        }
      ],
      "source": [
        "# Definición\n",
        "L=[2,3,4]\n",
        "# Tipo\n",
        "type(L)"
      ]
    },
    {
      "cell_type": "code",
      "execution_count": null,
      "metadata": {
        "id": "Mp9iag0xpX8e",
        "outputId": "b84e218d-bd18-4c4f-f90d-5a9cd4bef683",
        "colab": {
          "base_uri": "https://localhost:8080/"
        }
      },
      "outputs": [
        {
          "output_type": "execute_result",
          "data": {
            "text/plain": [
              "[0, 1, 4, 9, 16, 25, 36, 49, 64]"
            ]
          },
          "metadata": {},
          "execution_count": 55
        }
      ],
      "source": [
        "# También podemoms definir Listas por comprensión (al igual que los conjuntos). \n",
        "L=[x**2 for x in range(0,9)]\n",
        "L"
      ]
    },
    {
      "cell_type": "markdown",
      "metadata": {
        "id": "3LcXDUbLpX8e"
      },
      "source": [
        "Podemos utilizar los indices de distintas maneras para poder acceder mas convenientemente a partes de una lista. Esta notación funciona para cualquier tipo de contenedor ordenado (i.e. strings, tuples, etc).\n",
        "\n",
        "- $\\texttt{L [ i ]}$ retorna el $i$-esimo elemento de la lista $\\texttt{L}$.\n",
        "- $\\texttt{L [ i : j ]}$ retorna los elementos desde el $i$-esimo (includido) hasta el $j$-esimo (excludido). El resultado tiene el mismo tipo que $\\texttt{L}$. \n",
        "- $\\texttt{L [ i : ]}$ es equivalente a: $\\texttt{L [ i : }$ $\\normalsize \\color{green}{\\textsf{len}}(\\texttt{L})\\texttt{ ]}$.\n",
        "- $\\texttt{L [ : j ]}$ es equivalente a: $\\texttt{L [ 0 : j ]}$.\n",
        "- $\\texttt{L [ i : : paso ]}$ retorna la lista de elemntos desde la $i$-esima posición progresando sobre los indices de acuerdo a $\\texttt{paso}$. \n",
        "\n",
        "También podemos concatenar listas usando el operador *'+'*\n"
      ]
    },
    {
      "cell_type": "code",
      "execution_count": null,
      "metadata": {
        "id": "FzTrW-ympX8f"
      },
      "outputs": [],
      "source": [
        "# Cambiar el i-ésimo elemento.\n",
        "L=[1,2,3,4,5,6]\n",
        "L[3]=12\n",
        "print(L)"
      ]
    },
    {
      "cell_type": "code",
      "execution_count": null,
      "metadata": {
        "id": "r2VhQUTGpX8g",
        "outputId": "16841fc9-e8c8-4682-a3f8-f0d62e193180",
        "colab": {
          "base_uri": "https://localhost:8080/"
        }
      },
      "outputs": [
        {
          "output_type": "execute_result",
          "data": {
            "text/plain": [
              "[3, 6]"
            ]
          },
          "metadata": {},
          "execution_count": 56
        }
      ],
      "source": [
        "# Podemos acceder a la lista usando indices.\n",
        "L=[1,2,3,4,5,6]\n",
        "L[2::3]"
      ]
    },
    {
      "cell_type": "code",
      "execution_count": null,
      "metadata": {
        "id": "CV6P0tJFpX8g",
        "outputId": "4a99fa37-56cf-49e4-9c7d-0de7ae9b3cc5",
        "colab": {
          "base_uri": "https://localhost:8080/"
        }
      },
      "outputs": [
        {
          "output_type": "stream",
          "name": "stdout",
          "text": [
            "[1, 2, 3, 4, 5, 6, 'caballo', 'perro']\n"
          ]
        }
      ],
      "source": [
        "# Concatenación de Listas\n",
        "L=[1,2,3,4,5,6]\n",
        "M=['caballo','perro']\n",
        "N= L + M\n",
        "print(N)"
      ]
    },
    {
      "cell_type": "markdown",
      "metadata": {
        "id": "QK6Kc1HrpX8h"
      },
      "source": [
        "Aquí hay una breve lista de los métodos asociados al tipo *Lista*:\n",
        "\n",
        "- $\\texttt{L.count}(\\texttt{obj})$ retorna el número de ocurrencias del objeto $\\texttt{obj}$ en la $\\texttt{L}$.  \n",
        "- $\\texttt{L.index}(\\texttt{value})$  retorna el primer indice $i$ para el cual $\\texttt{L [ i ] = value}$.\n",
        "- $\\texttt{L.insert}(\\texttt{i, obj})$ inserta el objecto $\\texttt{obj}$ en la $i$-esima posición, moveindo el resto de los contenidos de la lista hacia la derecha.\n",
        "- $\\texttt{L.remove}(\\texttt{value})$ remueve de $\\texttt{L}$ laprimer ocurrencia de $\\texttt{value}$.\n",
        "- $\\texttt{L.pop}(\\texttt{index})$ retorna el valor indexado y lo remueve de $\\texttt{L}$.\n",
        "- $\\texttt{L.reverse}()$ escribe la lista $\\texttt{L}$ del revez (cambia $\\texttt{L}$). \n",
        "- $\\texttt{L.sort}(\\texttt{L})$ (re)ordena $\\texttt{L}$ de acuerdo al orden lexicográfico. Los elementos deben ser del mismo tipo.\n"
      ]
    },
    {
      "cell_type": "code",
      "execution_count": null,
      "metadata": {
        "id": "BG20-vPvpX8i"
      },
      "outputs": [],
      "source": [
        "L=['1','5','2','caballo','3']\n",
        "L.sort()\n",
        "print(L)"
      ]
    },
    {
      "cell_type": "markdown",
      "source": [
        "\n",
        "\n",
        "---\n",
        "\n"
      ],
      "metadata": {
        "id": "jlylf_gjZ0g7"
      }
    },
    {
      "cell_type": "markdown",
      "metadata": {
        "id": "h5_QwRiJpX83"
      },
      "source": [
        "## Rangos\n",
        "\n",
        "Los Rangos, son tipos especiales de contenedores. Generalmente, construiremos un rango de la siguiente forma  $\\normalsize \\color{green}{\\textsf{range}}$ $\\texttt{(comienzo, fin, paso)}$. \n",
        "\n",
        "Este comando generara un *rango* de números enteros desde $\\texttt{comienzo}$ (incluido) hasta $\\texttt{stop}$ (excluido) tomando en cuenta la \"longitud de salto\" definida por $\\texttt{paso}$.\n",
        "\n",
        "También podemos invocar a $\\normalsize \\color{green}{\\textsf{range}}$ $\\texttt{(comienzo, fin)}$. y el *'paso'* será por defecto 1.\n",
        "Podemos invocar $\\normalsize \\color{green}{\\textsf{range}}$ $\\texttt{(comienzo)}$. donde el *'comienzo'* será por defecto 0."
      ]
    },
    {
      "cell_type": "code",
      "execution_count": null,
      "metadata": {
        "id": "ks1yLL5rpX84"
      },
      "outputs": [],
      "source": [
        "# Por que no vemos un resultado?\n",
        "range(1,100,2)"
      ]
    },
    {
      "cell_type": "markdown",
      "metadata": {
        "id": "G5p0x6mlpX85"
      },
      "source": [
        "El rango no es un objeto **per se**, podemos tratarlo como una *'potencial'* lista de enteros. Sin embargo, también es posible checkear que $\\texttt{'algo'}$ esta o pertenece a cierto rango, i.e. $\\texttt{'algo'}$ $\\normalsize \\color{green}{\\textsf{in}}$ $\\normalsize \\color{green}{\\textsf{range}}$ $\\texttt{(comienzo, fin)}$. \n"
      ]
    },
    {
      "cell_type": "markdown",
      "source": [
        "---"
      ],
      "metadata": {
        "id": "FYeinharats9"
      }
    },
    {
      "cell_type": "markdown",
      "metadata": {
        "id": "3NgRmx72pX86"
      },
      "source": [
        "## Differencias y relaciones entre estas Estructuras de Datos\n",
        "\n",
        "- Un diccionario es una forma conveniente de almacenar/actualizar/eliminar información sobre llaves específicas. Sin embargo, es un objeto de mayor complejidad y debe ser utilizado con cuidado.\n",
        "\n",
        "- Una cadena de carácteres es un objeto especifico. Es una forma simple de comunicarse con el usuario, usando el método $\\texttt{format}$. \n",
        "\n",
        "- Los strings y la tupplas, son tipos inmutables. No existen métodos definidos para cambiar sus valores internos.\n"
      ]
    },
    {
      "cell_type": "code",
      "execution_count": null,
      "metadata": {
        "id": "_nZW8xe_pX86",
        "outputId": "ea0a09fd-fc99-466c-bf21-b9d6af80666d",
        "colab": {
          "base_uri": "https://localhost:8080/"
        }
      },
      "outputs": [
        {
          "output_type": "stream",
          "name": "stdout",
          "text": [
            "(1, 2, 3, 1, 2, 3)\n"
          ]
        }
      ],
      "source": [
        "# Es posible cambiar de 'str' a tipo 'tuple'. \n",
        "x=(1,2,3)\n",
        "x=x+x\n",
        "print(x)"
      ]
    },
    {
      "cell_type": "markdown",
      "metadata": {
        "id": "sdHvFbcdpX87"
      },
      "source": [
        "- Los Conjuntos, Diccionarios y Listas son tipos \"mutables\" \n",
        "\n",
        "Existen diversos métodos para manipularlos. \n",
        "\n",
        "Debemos tener cuidado cuando utilizamos la asginación en tipos mutables, ya que generalmente sobrescribiremos el o los valores. \n",
        "\n",
        "Para copiar un objeto complejo debemos usar el método $\\texttt{copy}$ en vez del simbolo $\\texttt{=}$. \n",
        "\n",
        "- Los objetos \"mutables\" tiene un tiempo de acceso mayor (son un poco más lentos).\n"
      ]
    },
    {
      "cell_type": "code",
      "execution_count": null,
      "metadata": {
        "id": "ZuJBe6lQpX88",
        "outputId": "a388f838-da0c-4aed-f6f8-bd156efd840b",
        "colab": {
          "base_uri": "https://localhost:8080/"
        }
      },
      "outputs": [
        {
          "output_type": "stream",
          "name": "stdout",
          "text": [
            "[[1, 2], [3, 4]] [[1, 2], [3, 4], 1]\n",
            "[[1, 2], [3, 4]] [[1, 3], [3, 4], 1]\n"
          ]
        }
      ],
      "source": [
        "# Efecto del método copy().\n",
        "L=[1,2]\n",
        "M=[3,4]\n",
        "biglist=[L,M]\n",
        "copybiglist=biglist.copy()\n",
        "copybiglist.append(1)\n",
        "print(biglist,copybiglist)\n",
        "copybiglist[0]=[1,3]\n",
        "print(biglist,copybiglist)"
      ]
    },
    {
      "cell_type": "markdown",
      "metadata": {
        "id": "EbabGhvnpX88"
      },
      "source": [
        "- La desventaja de usar tipos \"mutables\" es el accesso más lento a los datos."
      ]
    },
    {
      "cell_type": "code",
      "execution_count": null,
      "metadata": {
        "id": "_65HERYBpX89",
        "outputId": "c1d2763c-c25d-4891-b5fb-18ae53722a35",
        "colab": {
          "base_uri": "https://localhost:8080/"
        }
      },
      "outputs": [
        {
          "output_type": "stream",
          "name": "stdout",
          "text": [
            "[1, 2, 3, 4]\n"
          ]
        }
      ],
      "source": [
        "# Efectos de los cambios de tipo (forzados).\n",
        "L=[1,2,1,2,1,3,4,2,3]\n",
        "c=list(set(L))\n",
        "print(c)"
      ]
    },
    {
      "cell_type": "markdown",
      "source": [
        "---"
      ],
      "metadata": {
        "id": "tHMmuYV0yIjk"
      }
    },
    {
      "cell_type": "markdown",
      "metadata": {
        "id": "P5W6r2nApX89"
      },
      "source": [
        "### Punteros\n",
        "\n",
        "En otros lenguajes, como C o C++, existe un tipo de variable especial llamado puntero, que se comporta como una referencia a una variable, **como es el caso de las variables mutables**.\n",
        "\n",
        "En Python *no hay punteros* (como los de C o C++), pero todas las variables son referencias a objetos, es decir, la *dirección* de la porción de memoria, en donde el objeto está almacenado. De este modo cuando se asigna una variable a otra, lo que se está asignando es la dirección de la porción de memoria donde se guarda el objeto. Si esa porción de memoria cambia, el cambio se puede ver en todas las variables que apuntan a esa porción."
      ]
    },
    {
      "cell_type": "markdown",
      "metadata": {
        "id": "2AXbxxCUpX8-"
      },
      "source": [
        "### Resumen Clasificación\n",
        "\n",
        "![python_mutable.png](attachment:python_mutable.png)"
      ]
    },
    {
      "cell_type": "markdown",
      "source": [
        "---"
      ],
      "metadata": {
        "id": "SoRFOSZ3yU_S"
      }
    },
    {
      "cell_type": "markdown",
      "metadata": {
        "id": "59m1U1_qpX8-"
      },
      "source": [
        "# Ciclos y Repeticiones\n",
        "\n",
        "## Ciclos while (mientras).\n",
        "\n",
        "Un bucle $\\normalsize \\color{green}{\\textsf{while}}$ se representa de la siguiete manera: "
      ]
    },
    {
      "cell_type": "code",
      "execution_count": null,
      "metadata": {
        "id": "q1uLlCOLpX8_",
        "outputId": "3c192ac5-629a-42e4-8ac9-7198300276ce",
        "colab": {
          "base_uri": "https://localhost:8080/"
        }
      },
      "outputs": [
        {
          "output_type": "stream",
          "name": "stdout",
          "text": [
            "Contaremos hasta : 3\n",
            "1 2 3 "
          ]
        }
      ],
      "source": [
        "N=int(input(\"Contaremos hasta : \"))\n",
        "p=0\n",
        "while p<N: # Definimos la condición sobre la que ejecutara el ciclo.\n",
        "    p+=1   # Hacemos algo dentro del ciclo.\n",
        "    print(p,end=\" \") # Hacemos otra cosa."
      ]
    },
    {
      "cell_type": "markdown",
      "metadata": {
        "id": "vI3362LzpX8_"
      },
      "source": [
        "Al igual que para el *condicional*, debemos terminar la linea con la instrucción $\\normalsize \\color{green}{\\textsf{while}}$ con **' : '**, luego debemos indentar el bloque de comandos que será repetido en el ciclo.  \n",
        "\n",
        "En general, cuando definimos un ciclo $\\normalsize \\color{green}{\\textsf{while}}$, debemos asegurarnos que el ciclo termine en algún momento. En caso de omitir una terminación segura del ciclo, el programa nunca ejecutara los comandos que esten a continuación del ciclo, quedando en un bucle.\n",
        "Para retomar el control, deberemos reiniciar el kernel o finalizar el proceso.  \n"
      ]
    },
    {
      "cell_type": "markdown",
      "source": [
        "---"
      ],
      "metadata": {
        "id": "z1t6PrKyyrTN"
      }
    },
    {
      "cell_type": "markdown",
      "metadata": {
        "collapsed": true,
        "id": "SAckQTHXpX9A"
      },
      "source": [
        "## Ciclos for (para). \n",
        "\n",
        "Cuando debemos realizar una tarea repetitiva, es muy conveniente utilizar los ciclos $\\normalsize \\color{green}{\\textsf{for}}$. La forma estandard de escribirlos es la siguiente: \n",
        "\n",
        "$\\normalsize \\color{green}{\\textsf{for}}$ $\\texttt{variable}$ $\\normalsize \\color{green}{\\textsf{in}}$ *'contenedor'* $\\texttt{:}$ \n",
        "\n",
        "seguido de un salto de linea y luego las instrucciones a ser repetidas. Como cualquier instrucción con **:** , necesitaremos indentar.\n",
        "\n",
        "$\\texttt{variable}$ es cualquier nombre de variable (no protegido), y *'contenedor'* es un objeto contenedor. "
      ]
    },
    {
      "cell_type": "code",
      "execution_count": null,
      "metadata": {
        "id": "vBYsoNSwpX9E",
        "outputId": "aeb8b750-8ef0-4908-a44d-ac39c27f6742",
        "colab": {
          "base_uri": "https://localhost:8080/"
        }
      },
      "outputs": [
        {
          "output_type": "stream",
          "name": "stdout",
          "text": [
            "0 1 2 3 4 5 6 7 8 9 10 11 12 13 14 15 16 17 18 19 "
          ]
        }
      ],
      "source": [
        "# Ejemplo de un ciclo\n",
        "for x in range(0,20):\n",
        "    print(x,end=\" \")"
      ]
    },
    {
      "cell_type": "markdown",
      "metadata": {
        "id": "zzkZMKoFpX9F"
      },
      "source": [
        "Debemos tener cuidado que $\\normalsize \\color{green}{\\textsf{range}}$ no nos retorne un tipo de datos que no sea acorde. Igualmente puede ser (o será) convertido al tipo lista. \n",
        "Si utilizaramos el tipo lista directamente, la performance se vera reducida.\n"
      ]
    },
    {
      "cell_type": "code",
      "execution_count": null,
      "metadata": {
        "id": "77YJgIUnpX9F"
      },
      "outputs": [],
      "source": [
        "# Comparación con los ciclos \"mientras\" \n",
        "x=0\n",
        "while x<20:\n",
        "    print(x,end=\" \")\n",
        "    x+=1"
      ]
    },
    {
      "cell_type": "code",
      "execution_count": null,
      "metadata": {
        "id": "Fv9YoPyKpX9G"
      },
      "outputs": [],
      "source": [
        "# Uso de ciclos for, para distintos tipos de contenedores. \n",
        "\n",
        "for x in {0,1,2}: # Conjunto\n",
        "    print(x,end=' ')\n",
        "print('')\n",
        "for x in 'AlgoritmosEstructurasDatos': # Strings\n",
        "     print(x,end=' ')\n",
        "print('')\n",
        "for x in list('AlgoritmosEstructurasDatos'): # Listas\n",
        "     print(x,end=' ')\n"
      ]
    },
    {
      "cell_type": "markdown",
      "metadata": {
        "id": "glq3VgCBpX9M"
      },
      "source": [
        "Algunas veces, cuando recorremos una lista $\\texttt{L}$ utilizando un ciclo $\\normalsize \\color{green}{\\textsf{for}}$  nos gustaría poder ver los valores y los indices.\n"
      ]
    },
    {
      "cell_type": "code",
      "execution_count": null,
      "metadata": {
        "id": "KJnw9ZyipX9M",
        "outputId": "a41bd741-cbbf-4421-9857-6a970bf1691d",
        "colab": {
          "base_uri": "https://localhost:8080/"
        }
      },
      "outputs": [
        {
          "output_type": "stream",
          "name": "stdout",
          "text": [
            "L[0]=1\n",
            "L[1]=5\n",
            "L[2]=2\n",
            "L[3]=caballo\n",
            "L[4]=3\n"
          ]
        }
      ],
      "source": [
        "# Un modo sencillo de hacerlo.\n",
        "L=['1','5','2','caballo','3']  \n",
        "for index in range(0,len(L)):\n",
        "    print(\"L[{}]={}\".format(index,L[index]))"
      ]
    },
    {
      "cell_type": "markdown",
      "metadata": {
        "id": "F367Q8a2pX9N"
      },
      "source": [
        "También podemos utilizar la siguiente notación reducida $\\normalsize \\color{green}{\\textsf{for}}$ $\\texttt{index,variable}$ $\\normalsize \\color{green}{\\textsf{in}}$ $\\texttt{L}$ **:**. En este caso, tendremos $\\texttt{L[index]=variable}$ durante la ejecución del ciclo. "
      ]
    },
    {
      "cell_type": "code",
      "execution_count": null,
      "metadata": {
        "id": "w9S-ovz3pX9O",
        "outputId": "39b4a302-6739-4cb0-e1cd-aa6fbb693ece",
        "colab": {
          "base_uri": "https://localhost:8080/"
        }
      },
      "outputs": [
        {
          "output_type": "stream",
          "name": "stdout",
          "text": [
            "L[0]=1\n",
            "L[1]=5\n",
            "L[2]=2\n",
            "L[3]=caballo\n",
            "L[4]=3\n"
          ]
        }
      ],
      "source": [
        "for  index,variable in enumerate(L): # Usamos la funcion enumarate para acceder a las tuplas (i,L[i])\n",
        "    print(\"L[{}]={}\".format(index,variable))"
      ]
    },
    {
      "cell_type": "markdown",
      "metadata": {
        "id": "PojDnVNjpX9O"
      },
      "source": [
        "Podemos interrumpir el ciclo $\\normalsize \\color{green}{\\textsf{for}}$ (respectivametne para $\\normalsize \\color{green}{\\textsf{while}}$) utilizando el commando $\\normalsize \\color{green}{\\textsf{break}}$."
      ]
    },
    {
      "cell_type": "code",
      "execution_count": null,
      "metadata": {
        "id": "YmWEFNMepX9P"
      },
      "outputs": [],
      "source": [
        "for x in range(0,9):\n",
        "    if x>6:\n",
        "        break\n",
        "    print(x,end=\" \")"
      ]
    },
    {
      "cell_type": "code",
      "execution_count": null,
      "metadata": {
        "id": "Eqh1DuDepX9P"
      },
      "outputs": [],
      "source": [
        "for y in range(0,9):\n",
        "    for x in range(0,9):\n",
        "        if x>6:\n",
        "            break # Solo interrumpimos el ciclo en \"donde estamos\".\n",
        "        print(10*y+x,end=\" \")"
      ]
    }
  ],
  "metadata": {
    "celltoolbar": "Slideshow",
    "kernelspec": {
      "display_name": "Python 3",
      "language": "python",
      "name": "python3"
    },
    "language_info": {
      "codemirror_mode": {
        "name": "ipython",
        "version": 3
      },
      "file_extension": ".py",
      "mimetype": "text/x-python",
      "name": "python",
      "nbconvert_exporter": "python",
      "pygments_lexer": "ipython3",
      "version": "3.8.3"
    },
    "colab": {
      "name": "Clase_1_Contenedores.ipynb",
      "provenance": [],
      "collapsed_sections": [
        "KXrH7820pX7t",
        "dUChUUT8pX78",
        "L9Yoe6R5pX8W",
        "L33KUznApX8d",
        "h5_QwRiJpX83",
        "3NgRmx72pX86",
        "P5W6r2nApX89",
        "2AXbxxCUpX8-",
        "SAckQTHXpX9A"
      ]
    }
  },
  "nbformat": 4,
  "nbformat_minor": 0
}