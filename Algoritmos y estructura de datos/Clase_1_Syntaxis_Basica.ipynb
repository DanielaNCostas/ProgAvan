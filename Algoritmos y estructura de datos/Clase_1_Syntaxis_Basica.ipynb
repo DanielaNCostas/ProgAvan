{
  "cells": [
    {
      "cell_type": "markdown",
      "metadata": {
        "id": "ggrQE-MiDuoZ"
      },
      "source": [
        "  # Algoritmos y Estructuras de Datos. \n",
        "\n",
        "## - Clase 1 - Parte 1 - Syntaxis Basica de Python -"
      ]
    },
    {
      "cell_type": "markdown",
      "metadata": {
        "id": "XNlflcQxDuod"
      },
      "source": [
        "### Cuerpo Docente \n",
        "- **Profesor:** Dr. Diego Agustín Ambrossio.\n",
        "- **Jefe de Trabajos Practicos**: \n",
        "\n",
        "**Día/Horario :** Martes 18h00 - 22h00. \n",
        "\n",
        "\n",
        "Material adaptado de la cátedra \"Introduction to Programming\" de la Université du Luxembourg. \n",
        "\n",
        "Gracias a mis estimados colegas Dr. Giovanni Casini (ISTI-CNR) y Dr. Xavier Parent (TU Wien)!! \n"
      ]
    },
    {
      "cell_type": "markdown",
      "metadata": {
        "id": "LuuzgkYbDuoe"
      },
      "source": [
        "### Resumen:\n",
        "\n",
        "Estudiaremos distintas estructuras de datos y cómo programar algoritmos para hacer uso eficientes de ellas. Utilizando el lenguaje de programación Python, haremos foco en la programación procedural, introduciendo algunos conceptos de la progrmación Orientada a Objetos. Finalmente, cómo optimizar algunos typos de algoritmos particulares.  \n",
        "\n",
        "Algunos de los temas a estudiar: \n",
        "\n",
        "- El Lenguaje de Programación Python.\n",
        "- Estructuras de Datos.\n",
        "- Recursividad.\n",
        "- Objetos en Python.\n",
        "- Algoritmos de Ordenamiento y Busqueda.\n",
        "- Archivos.\n",
        "- Complejidad Computacional. \n",
        "- Nociones de Computabilidad, Verificación y Validación.  \n",
        "\n",
        "El material de la cáterda y todos los recursos necesarios estarán disponibles en el Campus Virtual. "
      ]
    },
    {
      "cell_type": "markdown",
      "metadata": {
        "id": "IQ03PLtkDuof"
      },
      "source": [
        "## Evaluación\n",
        "### General\n",
        "\n",
        "-  2 Examenes Parciales\n",
        "-  Ejercicios de entrega obligatoria. \n",
        "-  Trabajos Grupales. \n",
        "\n",
        "### Aprobación:\n",
        "\n",
        "- Entrega de los ejercicios obligatorios / Trabajos Grupales.  \n",
        "- Calificación de 4 (cuatro) o más, en los examenes parciales.\n",
        "\n",
        "### Promoción \n",
        "\n",
        "- Calificación de 6 o más en cada examen parcial **y** un promedio general superior a 7."
      ]
    },
    {
      "cell_type": "markdown",
      "metadata": {
        "id": "Kx8FdENEDuog"
      },
      "source": [
        "### Criterios de evaluación"
      ]
    },
    {
      "cell_type": "markdown",
      "metadata": {
        "id": "XKz-yAtTDuog"
      },
      "source": [
        "Please note that it is not exhaustive.\n",
        "\n",
        "- El algoritmo da el resultado correcto?\n",
        "\n",
        "- El codigo debe ser legible, es decir, otra persona ademas del programador debe poder entender lo que han resuelto. \n",
        "\n",
        "- Son los algorithmos eficientes? Es decir, existe una mejor solución? (para el caso que hagan \"hardcoding\" para llegar a un resultado. \n",
        "\n",
        "- En caso de que el programa no funcione, igualmente será correjido, pero deberan incluir información adicional sobre ¿por qué no funciona?\n",
        "\n",
        "- ...\n",
        "\n"
      ]
    },
    {
      "cell_type": "markdown",
      "metadata": {
        "id": "aP5E2Jq6Duoh"
      },
      "source": [
        "# ¿Qué es Python?\n",
        "\n"
      ]
    },
    {
      "cell_type": "markdown",
      "metadata": {
        "id": "JRq84PfTDuoi"
      },
      "source": [
        "Python es un lenguaje de programación de alto nivel. También es un Interprete. Es un lenguaje de facil y rápido aprendizaje. Recientemente de uso extendido dado a sintaxis clara facilidad de uso y comprension.  \n",
        "Por razones de compatibilidad, se sugiere utilizar la versión 3.8. \n"
      ]
    },
    {
      "cell_type": "markdown",
      "metadata": {
        "id": "ONvqjQmiDuoj"
      },
      "source": [
        "# Por qué utilizar Python?"
      ]
    },
    {
      "cell_type": "markdown",
      "metadata": {
        "id": "jNhEW4oWDuoj"
      },
      "source": [
        "(Pros) : Python es un lenguaje de programación de alto nivel, simple y sencillo. En particular, la forma de definir funciones y objetos. \n",
        "\n",
        "La gramatíca de Python nos fuerza a utilizar una linea por commando, e indentar el codigo. Estas son \"buenas practicas\" en cualquier lenguaje de programación.\n",
        "\n",
        "Es de \"accesso abierto\" (codigo libre).\n",
        "\n",
        "Muchos programadores y empreseas utilizan Python ya que es fácil de aprender y leer. Ya existen muchos modulos o librerias para resolver problemas(numpy, scipy, biopython,...), además de una extensa documentación.\n",
        "\n",
        "Es un buen lenguaje para proyectos colaborativos."
      ]
    },
    {
      "cell_type": "markdown",
      "metadata": {
        "id": "jUQP0PJtDuok"
      },
      "source": [
        "(Cons) : Aunque Python es bastante eficiente, será más lento que otros lenguajes de más bajo nivel cómo C o C++. "
      ]
    },
    {
      "cell_type": "markdown",
      "metadata": {
        "id": "zvKBt3UiDuol"
      },
      "source": [
        "# ¿Cómo utilizamos Python?"
      ]
    },
    {
      "cell_type": "markdown",
      "metadata": {
        "id": "skxXA0sjDuol"
      },
      "source": [
        "**Método 1:** \n",
        "\n",
        "Descargar e instalar Python. link: https://www.python.org/downloads/\n",
        "\n",
        "Luego podrán utilizar cualquier editor de texto para escribir su código y luego ejecutar el comando: \n",
        "\n",
        "$\\texttt{python archivo.py}$\n"
      ]
    },
    {
      "cell_type": "markdown",
      "metadata": {
        "id": "L1Ujw_IkDuol"
      },
      "source": [
        "**Método 2:** \n",
        "\n",
        "Google Colab. link: https://colab.research.google.com/notebooks/intro.ipynb \n",
        "\n",
        "Google Colaborative nos permite escribir y ejecutar código, además de \\texttt{incluir} la posibilidad de escribir bloques de texto (y acepta la syntaxis de $\\LaTeX$). \n"
      ]
    },
    {
      "cell_type": "markdown",
      "metadata": {
        "id": "cWLQPL0GDuom"
      },
      "source": [
        "**Método 3:** \n",
        "\n",
        " Descargar e instalar Anaconda. link: https://www.anaconda.com/. \n",
        "\n",
        " Esta distribución de Python incluye herramientas e IDE's para realizar analisis de datos. Por ejemplo, python, syder IDE, Jupyter, y R entre otras. \n",
        "\n",
        "Utilizaremos el IDE llamdo **Spider** para editar y ejecutar nuestro código.\n"
      ]
    },
    {
      "cell_type": "markdown",
      "metadata": {
        "id": "NL1I71iaDuom"
      },
      "source": [
        "**Método 4:**\n",
        "\n",
        "- Descargar e instalar Python. link: https://www.python.org/downloads/\n",
        "- Descargar e instalar Anaconda. link: https://code.visualstudio.com/ \n",
        "\n",
        " Esta distribución de Python incluye herramientas e IDE's para realizar analisis de datos. Por ejemplo, python, syder IDE, Jupyter, y R entre otras. \n",
        "\n",
        "Utilizaremos el IDE llamdo **VS Code** para editar y ejecutar nuestro código.\n",
        "\n"
      ]
    },
    {
      "cell_type": "markdown",
      "metadata": {
        "id": "tBHzyMPSDuom"
      },
      "source": [
        "**Método 5:** \n",
        "\n",
        "Editores y Recursos online.\n",
        "\n",
        "-    Programiz Online Compiler. link: https://www.programiz.com/python-programming/online-compiler/\n",
        "  \n",
        "\n",
        "\n",
        "\n"
      ]
    },
    {
      "cell_type": "markdown",
      "metadata": {
        "id": "Yua6I68oDuon"
      },
      "source": [
        "# Recursos.\n",
        "\n",
        "## Descargas.\n",
        "-   Python : https://www.python.org\n",
        "-   Atom : https://atom.io (editor)\n",
        "-   Anaconda : https://www.anaconda.com/download/\n",
        "-   GNU Emacs : https://www.gnu.org/software/emacs/ (editor)\n"
      ]
    },
    {
      "cell_type": "markdown",
      "metadata": {
        "id": "j9JzOaRPDuon"
      },
      "source": [
        "## Documentación.\n",
        "- Documentacion Oficial de Python: https://docs.python.org/es/3/\n",
        "\n",
        "- Tutorial Oficial de Python: https://docs.python.org/es/3/tutorial/\n",
        "\n",
        "- Tutorial \"Aprende Python (Learn Python): https://www.learnpython.org/es/\n",
        "\n",
        "- Cátedra 75.01 95.01 Computación, del Departamento de Computación de la Universidad de Buenos Aires: http://materias.fi.uba.ar/7501/Fiuba%20%20Computaci%f3n.htm\n"
      ]
    },
    {
      "cell_type": "markdown",
      "metadata": {
        "id": "g7FSMac3Duon"
      },
      "source": [
        "## Recursos. \n",
        "\n",
        "-   Programiz Online Compiler: https://www.programiz.com/python-programming/online-compiler/\n",
        "\n",
        "-   Google Colaborative: https://colab.research.google.com/notebooks/intro.ipynb\n",
        "\n",
        "-  [Burin et al., 2017] Ing. Daniel Burin y Docentes de la cátedra 75.01/ 95.01 Computación (ed. 2017).  Departamento de Computación, Facultad de Ingeniería, Universidad de Buenos Aires. “Algoritmos y Programación I Aprendiendo a programar usando Python como herramienta”: http://materias.fi.uba.ar/7501/apunte%20PYTHON.pdf\n",
        "\n",
        "-  StackOverflow: https://stackoverflow.com/\n",
        "\n",
        "-  Google."
      ]
    },
    {
      "cell_type": "markdown",
      "metadata": {
        "id": "UZGX3FKWDuoo"
      },
      "source": [
        "## Bibliografía.\n",
        "\n",
        "- [Joyanes, 2003] Joyanes Aguilar, L. (2003). Fundamentos de Programación; Algoritmos, Estructuras de Datos y Objetos (3a. ed.). Madrid: McGraw-Hill Interamericana.\n",
        "\n",
        "- [Cormen et al., 2017] Cormen, T. H., Leiserson, C. E., Rivest, R. L., & Stein, C. (2017). Introduction to algorithms.\n",
        "\n",
        "- [Aho et al., 1998] Aho, A. V., Hopcroft, J. E., & Ullman, J. D. (1998). Estructuras de datos y algoritmos.\n",
        "\n",
        "- [Goodrich et al., 2018] Goodrich, M. T., Tamassia, R., & Goldwasser, M. H. (2018). Data structures and algorithms in Python.\n",
        "\n",
        "- [Lee et al., 2015] Lee, K. D., & Hubbard, S. (2015). Data Structures and Algorithms with Python. Cham: Springer International Publishing.\n",
        "\n",
        "- [Weiss, 2010] Weiss, M. A. (2010). Data structures & problem solving using Java. Boston: Pearson Education.\n",
        "\n",
        "- [Drozdek, 2007] Drozdek, A. (2007). Estructura de Datos Y Algoritmos en Java. Cengage Learning Latin America.\n",
        "\n",
        "- [Brassard et al., 2008] Brassard, G., & Bratley, P. (2008). Fundamentos de algoritmia. Madrid: Pearson Prentice Hall.\n",
        "\n",
        "- [Heilman, 2010] Heileman,Gregory, L. (2010). Estructura de datos, algoritmos y programación orientada a objetos. La Habana: Editorial Félix Varela.\n",
        "\n",
        "- [Gamma et al., 1995] Gamma, E., Helm, R., Johnson, R. E., & Vlissides, J. (1995). Design patterns: Elements of reusable object-oriented software. Reading, Mass: Addison-Wesley.\n",
        "\n",
        "\n",
        "(La mayoria de los libros mencionados en ingles, tienen al menos una edición en español) "
      ]
    },
    {
      "cell_type": "markdown",
      "metadata": {
        "id": "ULgkxI4FDuoo"
      },
      "source": [
        "$~$"
      ]
    },
    {
      "cell_type": "markdown",
      "metadata": {
        "id": "PMSXliaYDuop"
      },
      "source": [
        "# Operaciones simples en Python."
      ]
    },
    {
      "cell_type": "markdown",
      "metadata": {
        "id": "ak3fwCKeDuop"
      },
      "source": [
        "Utilizaremos Python como una \"mini-calculadora\" y realizar operaciones simples, i.e. suma, resta, multiplicacion, etc."
      ]
    },
    {
      "cell_type": "markdown",
      "metadata": {
        "id": "yKzLLEm3Duop"
      },
      "source": [
        "### Operaciones Aritmenticas"
      ]
    },
    {
      "cell_type": "code",
      "execution_count": null,
      "metadata": {
        "id": "jGNspS75Duoq"
      },
      "outputs": [],
      "source": [
        "2 + 6 # Suma"
      ]
    },
    {
      "cell_type": "code",
      "execution_count": null,
      "metadata": {
        "scrolled": true,
        "id": "CpneVCxpDuoq"
      },
      "outputs": [],
      "source": [
        "2 - 19 # Resta"
      ]
    },
    {
      "cell_type": "code",
      "execution_count": null,
      "metadata": {
        "id": "ZTPKJ7GPDuor"
      },
      "outputs": [],
      "source": [
        "2 * 27 # Multiplicación"
      ]
    },
    {
      "cell_type": "code",
      "execution_count": null,
      "metadata": {
        "id": "kh7lYtWjDuor"
      },
      "outputs": [],
      "source": [
        "165 / 10 # Divición."
      ]
    },
    {
      "cell_type": "code",
      "execution_count": null,
      "metadata": {
        "id": "-egnm_WDDuor"
      },
      "outputs": [],
      "source": [
        "165 // 10 # Cociente de la divición Euclidiana (parte entera)"
      ]
    },
    {
      "cell_type": "code",
      "execution_count": null,
      "metadata": {
        "id": "f558nYf4Duor"
      },
      "outputs": [],
      "source": [
        "165 % 10 # Resto de la divición Euclidiana."
      ]
    },
    {
      "cell_type": "code",
      "execution_count": null,
      "metadata": {
        "id": "WIp100XFDuor"
      },
      "outputs": [],
      "source": [
        "3 ** 2 # Potencia"
      ]
    },
    {
      "cell_type": "markdown",
      "metadata": {
        "id": "Jm60iibBDuos"
      },
      "source": [
        "### Operaciones Lógicas\n",
        "\n",
        "Las operaciones lógicas nos devulven un \"Valor de Verdad\" (Verdadero, Falso) como resultado."
      ]
    },
    {
      "cell_type": "code",
      "execution_count": null,
      "metadata": {
        "id": "T7YeBe-_Duos"
      },
      "outputs": [],
      "source": [
        "1 == 2 # Igualdad"
      ]
    },
    {
      "cell_type": "code",
      "execution_count": null,
      "metadata": {
        "id": "Xp0xmdAGDuos"
      },
      "outputs": [],
      "source": [
        "1 != 2 # Desigualdad"
      ]
    },
    {
      "cell_type": "code",
      "execution_count": null,
      "metadata": {
        "id": "xmFsqbN0Duos"
      },
      "outputs": [],
      "source": [
        "1 < 2 # menor \n",
        "1 > 2 # mayor\n",
        "1 <= 2 # menor o igual \n",
        "1 >= 2 # mayor o igual "
      ]
    },
    {
      "cell_type": "code",
      "execution_count": null,
      "metadata": {
        "id": "e4F1S0ShDuot"
      },
      "outputs": [],
      "source": [
        "not(True) # El operador lógico de \"NEGACIÓN\" \n",
        "True and False # El operador lógico \"Y\"\n",
        "True or False # El operador lógico \"O\""
      ]
    },
    {
      "cell_type": "markdown",
      "metadata": {
        "id": "Zv6lTR4oDuot"
      },
      "source": [
        "El operador \"$\\normalsize \\color{green}{\\textsf{or}}$\" (cómo muchas de las funciones en Python) esta optimizado. Es decir, es \"lazy\" (peresozo), si queremos evaluar la expresión \n",
        "$P_1$ $\\normalsize \\color{green}{\\textsf{or}}$ $P_2$ y $P_1$ es verdadera, entonces $P_1$ $\\normalsize \\color{green}{\\textsf{or}}$ $P_2$ tiene como resultado final \"verdadero\" ($\\normalsize \\color{green}{\\textsf{True}}$) aun antes de evaluar $P_2$. "
      ]
    },
    {
      "cell_type": "code",
      "execution_count": null,
      "metadata": {
        "id": "4RdLCoVwDuot"
      },
      "outputs": [],
      "source": [
        "# No tiene sentido, la varialbe 'var' no esta definida.\n",
        "# Ejecutar esta linea nos generara un error.\n",
        "\n",
        "var==True # "
      ]
    },
    {
      "cell_type": "code",
      "execution_count": null,
      "metadata": {
        "id": "DZ5AC76hDuot"
      },
      "outputs": [],
      "source": [
        "# En el siguiente caso 1 == 1 es verdadero, \n",
        "# el operador 'or' no evaluara la parte var==True\n",
        "# (no nos aparece el error) \n",
        "\n",
        "1 == 1 or var == True  \n"
      ]
    },
    {
      "cell_type": "code",
      "execution_count": null,
      "metadata": {
        "id": "U5h4jgeqDuot"
      },
      "outputs": [],
      "source": [
        "# En el siguiente caso var==True nos genera un error,\n",
        "# y el programa finaliza. \n",
        "\n",
        "var == True or 1 == 1 \n"
      ]
    },
    {
      "cell_type": "markdown",
      "metadata": {
        "id": "b9g_ApqnDuou"
      },
      "source": [
        "# Assignación y tipos de variales en Python."
      ]
    },
    {
      "cell_type": "markdown",
      "metadata": {
        "id": "dp_o_TFaDuou"
      },
      "source": [
        "Como en cualquier otro lenguaje de programación, podemos asignar valores a un **\"nombre de variable\"**. \n",
        "Un *nombre de variable*, es un identificador alphanumerico el cual esta asociado a un espacio de memoria. \n",
        "\n",
        "En Python utilizamos el symbolo ${\\normalsize \\color{purple}{\\texttt{=}}}$. (en contraste con el operador $\\normalsize \\color{purple}{\\texttt{==}}$).  "
      ]
    },
    {
      "cell_type": "code",
      "execution_count": null,
      "metadata": {
        "id": "F96YzzpZDuou"
      },
      "outputs": [],
      "source": [
        "n_entero = 5                            # Un número entero\n",
        "n_con_comma = 0.3                       # Un número de punto flotante\n",
        "v_bool = True                           # Un valor Booleano, verdadero o falso (True o False respectivamente)\n",
        "cad_de_caract = 'cadena de caracteres'  # Una cadena de caracteres (string), una palabra o frase entre \" \" o ' '.\n",
        "complejo= 1 + 1j                        # Un número complejo (escribimos j, en vez del tradicional i, para la parte imaginaria) \n"
      ]
    },
    {
      "cell_type": "markdown",
      "metadata": {
        "id": "GR51FaAYDuou"
      },
      "source": [
        "\n",
        "Cada **valor** que le asignamos a una variable, tiene asignado un **tipo**, el cual definira el tipo de la variable a cual el valor es asignado. Es decir, en Python el tipo de una variable es asignado dinamicamente durante la ejecución del programa, dependiendo del valor contenido.  \n",
        "\n",
        "Nota: la función $\\normalsize \\color{green}{\\texttt{print}}$ nos permite escribir en la pantalla/consola. \n"
      ]
    },
    {
      "cell_type": "code",
      "execution_count": null,
      "metadata": {
        "id": "vC_ecGbxDuou"
      },
      "outputs": [],
      "source": [
        "print(type(n_entero))         # es del tipo int'\n",
        "print(type(n_con_comma))      # es del tipo 'float'\n",
        "print(type(v_bool))           # es del tipo 'bool'\n",
        "print(type(cad_de_caract))    # es del tipo 'str'\n",
        "print(type(complejo))         # es del tipo 'complex'"
      ]
    },
    {
      "cell_type": "markdown",
      "metadata": {
        "id": "no1fSXl6Duov"
      },
      "source": [
        "El symbolo de igualdad--que utilizamos para realizar asignaciones--no es un operador symetrico. \n",
        "\n",
        "Es decir $v_1 = v_2$ no es lo mismo que $v_2 = v_1$. "
      ]
    },
    {
      "cell_type": "code",
      "execution_count": null,
      "metadata": {
        "id": "sfnJ2vWZDuov"
      },
      "outputs": [],
      "source": [
        "v1 = 2\n",
        "v2 = 3\n",
        "v1 = v2            # v1 toma el valor de v2\n",
        "print(\"v1= \",v1)\n",
        "print(\"v2= \",v2)\n",
        "\n",
        "v1 = 2\n",
        "v2 = 3\n",
        "v2 = v1            # v2 toma el valor de v1\n",
        "print(\"v1= \",v1)\n",
        "print(\"v2= \",v2)"
      ]
    },
    {
      "cell_type": "markdown",
      "metadata": {
        "id": "jyOFLEadDuov"
      },
      "source": [
        "\n",
        "Los operadores $\\normalsize \\color{purple}{\\texttt{+=}}$, $\\normalsize \\color{purple}{\\texttt{+=}}$, $\\normalsize \\color{purple}{\\texttt{*=}}$, etc. nos permiten realizar operaciones sobre una variable sin tener que nombrarla dos veces.    \n"
      ]
    },
    {
      "cell_type": "code",
      "execution_count": null,
      "metadata": {
        "id": "Le9l1Zc8Duov"
      },
      "outputs": [],
      "source": [
        "v1 = 1\n",
        "v1 += 3 # Incrementamos sobre v1. Es equivalente a escribir  \"v1 = v1 + 3\"\n",
        "        # Este metodo es mas eficiente y facil de escribir.\n",
        "print(v1)\n",
        "\n",
        "v1 *= 2 # También funciona con *=\n",
        "print(v1) "
      ]
    },
    {
      "cell_type": "code",
      "execution_count": null,
      "metadata": {
        "scrolled": true,
        "id": "C6Z7FdG4Duov"
      },
      "outputs": [],
      "source": [
        "v1, v2 = 2, 3   # Asignación Multiple. El orden es importante!\n",
        "\n",
        "v1, v2, v3 =  v1 + 5, v2 + 2, 4\n",
        "\n",
        "print (v1,v2)"
      ]
    },
    {
      "cell_type": "code",
      "execution_count": null,
      "metadata": {
        "id": "BkoQp4xFDuov"
      },
      "outputs": [],
      "source": [
        "v1 = 150\n",
        "v2 = 3\n",
        "\n",
        "v1 , v2  = v2 , v1  # Python nos permite intercambiar los valores de las variables fácilmente.\n",
        "\n",
        "print(\"v1=\",v1)\n",
        "print(\"v2=\",v2)\n"
      ]
    },
    {
      "cell_type": "code",
      "execution_count": null,
      "metadata": {
        "id": "fIV4zYh8Duow"
      },
      "outputs": [],
      "source": [
        "# Ahora contrastemos con este ejemplo (el cual no realiza el mismo trabajo) \n",
        "v1=150\n",
        "v2=3\n",
        "v1=v2\n",
        "v2=v1\n",
        "print(\"v1=\",v1)# Ahora v1 y v2 son iguales. \n",
        "print(\"v2=\",v2)"
      ]
    },
    {
      "cell_type": "markdown",
      "metadata": {
        "id": "yGtkR3JWDuow"
      },
      "source": [
        "\n",
        "El *tipo* de una variable es importante. Siempre debemos recordar cuales son los tipos de las variables que hemos definido, ya que **Python no provee ninguna forma de fijar el tipo de una variable**. \n",
        "\n",
        "\n",
        "Python nos provee funciones para cambiar el tipo de una variable. Si queremos cambiar el tipo de la variable $v$ al tipo $\\texttt{ftype}$, utilizamos el siguiente comando $\\texttt{v} = \\texttt{ftype(v)}$. \n",
        "\n",
        "\n",
        "El resultado dependera del tipo de la variable que queremos transformar, e.g. si convertimos una variable de punto flotatante a un entero utilizando la función $\\normalsize \\color{green}{\\textsf{int}}()$, solo obtendremos la parte entera de la variable. \n"
      ]
    },
    {
      "cell_type": "code",
      "execution_count": null,
      "metadata": {
        "id": "RnMKMceLDuow"
      },
      "outputs": [],
      "source": [
        "print(n_entero)           # n_entero = 5\n",
        "print(float(n_entero))\n",
        "\n",
        "print(n_con_comma)        # n_con_comma = 0.3\n",
        "print(int(n_con_comma))"
      ]
    },
    {
      "cell_type": "markdown",
      "metadata": {
        "id": "D4qao6OdDuow"
      },
      "source": [
        "\n",
        "Algunos nombre de variables estan protegidos. Es decir, *no podemos usarlos como nombres de variables y asginarles un valor*. \n",
        "\n",
        "Por Ejemplo:\n"
      ]
    },
    {
      "cell_type": "code",
      "execution_count": null,
      "metadata": {
        "id": "qWS5s_1vDuow"
      },
      "outputs": [],
      "source": [
        "True = 3  # True es un nombre protegido, por lo cual se generara un error."
      ]
    },
    {
      "cell_type": "markdown",
      "metadata": {
        "id": "orzmorPhDuow"
      },
      "source": [
        "Sólo algunos nombres (o palabras) están protegidos en Python, debemos tener cuidado. \n",
        "Las \"reglas basicas\" para nombrar variables para nombrar variables, son dependientes del lenguaje y del estilo de programación. \n",
        "Aquí mencionamos algunas reglas basicas:\n",
        "\n",
        "\n",
        "- asegurarse de no repetir nombres. \n",
        "- solo usar un caracter para las variable que no son importantes. \n",
        "- usar nombres especificos para las variables que son importantes. \n",
        "- no usar nombre se variables muy largos. \n",
        "\n",
        "Finalmente, ejecutando el código a continuación, podemos ver la lista de *nombres protegidos* de Python y la lista de *funciones pre-definidas* en Python. \n"
      ]
    },
    {
      "cell_type": "code",
      "execution_count": null,
      "metadata": {
        "id": "qmaxyFCcDuox"
      },
      "outputs": [],
      "source": [
        "import keyword\n",
        "for x in keyword.kwlist:\n",
        "    print(x,end=\" - \")#Esta es la lista de nombres (o palabras) protegidas.\n",
        "print()\n",
        "print()\n",
        "import builtins\n",
        "for x in  dir(builtins): #Funciones provistas por Python (built-in functions).  \n",
        "    print (x, end= \" - \")"
      ]
    },
    {
      "cell_type": "markdown",
      "metadata": {
        "id": "GUj7sSSXDuox"
      },
      "source": [
        "# Algunas funciones de Python\n",
        "\n",
        "En Python, una función es invocada de la siguiente forma $\\normalsize \\color{green}{\\textsf{function}} \\texttt(variable_1, \\ldots, variable_r)$. \n",
        "Ya hemos visto angunas funciones como $\\normalsize \\color{green}{\\textsf{print, type, int}}, \\ldots$. \n",
        "\n",
        "En la salida del programa anterior, puede verse una lista de las funciones provistas por Python ($\\textit{built-in functions}$). Luego, comenzaremos a definir nuestras propias funciones. Por el momento veremos algunos ejemplos útiles. \n"
      ]
    },
    {
      "cell_type": "markdown",
      "metadata": {
        "id": "ZGacdWXVDuox"
      },
      "source": [
        "## La función print\n",
        "\n",
        "La función $\\normalsize \\color{green}{\\textsf{print}}$ puede aceptar muchos argumentos de entrada. Los argumentos, ya sean valores o nombres de variables, se imprimiran en el mismo orden indicado, separados por un espacio.\n",
        "\n",
        "Por defecto la función $\\normalsize \\color{green}{\\textsf{print}}$ agrega un salto de linea al finalalizar la impresion de los datos.\n"
      ]
    },
    {
      "cell_type": "code",
      "execution_count": null,
      "metadata": {
        "id": "ofYN_sulDuox"
      },
      "outputs": [],
      "source": [
        "print(3) # Imprime el número (entero) 3.\n",
        "print('dies irae') # Imprime el string dies irae\n",
        "print(True) # Imprime True"
      ]
    },
    {
      "cell_type": "code",
      "execution_count": null,
      "metadata": {
        "id": "zfhM-g83Duoy"
      },
      "outputs": [],
      "source": [
        "x = 2\n",
        "print(x) # Imprime el valor de la variable y no el nombre."
      ]
    },
    {
      "cell_type": "code",
      "execution_count": null,
      "metadata": {
        "id": "V0vuhSYaDuoy"
      },
      "outputs": [],
      "source": [
        "print(3,'dies irae',True) # podemos imprimir diferentes argumentos \n",
        "                          # en la misma linea"
      ]
    },
    {
      "cell_type": "markdown",
      "metadata": {
        "id": "rElyHRXZDuoy"
      },
      "source": [
        "Para cambiar el 'terminador' del commando $\\normalsize \\color{green}{\\textsf{print}}$--que por defecto es \"\\n\" (barra n)--debemos añadir el argumento: $\\texttt{end=\"terminador\"}$."
      ]
    },
    {
      "cell_type": "code",
      "execution_count": null,
      "metadata": {
        "id": "Mx3UM9prDuoy"
      },
      "outputs": [],
      "source": [
        "print(3,end=\"*\")            # Cambia el salto de linea por un * . \n",
        "print('dies irae',end=\"*\")  # Cambia el salto de linea por un * .\n",
        "print(True)                 # Imprime un salto de linea.\n",
        "print(3,end=\"  \")           # Cambia el salto de linea por un espacio.\n",
        "print('dies irae',end=\"  \") # Cambia el salto de linea por un espacio.\n",
        "print(True)                 # Imprime un salto de linea."
      ]
    },
    {
      "cell_type": "markdown",
      "metadata": {
        "id": "m2o6UejhDuoz"
      },
      "source": [
        "## La función input\n",
        "\n",
        "La función $\\normalsize \\color{green}{\\textsf{input}}$ toma como argumento una cadena de caracteres. Luego, la consola del systema, escribe la cadena de caracteres y queda en espera a que el usuario introduzca algo con el teclado, lo cual sera el resultado devuelto por la funcion $\\normalsize \\color{green}{\\textsf{input}}$. \n",
        "\n",
        "**El tipo del resultado es siempre una cadena de caracteres!!** "
      ]
    },
    {
      "cell_type": "code",
      "execution_count": null,
      "metadata": {
        "id": "3nu396z9Duoz"
      },
      "outputs": [],
      "source": [
        "n = input(\"Por favor ingrese un número : \")\n",
        "print(n)"
      ]
    },
    {
      "cell_type": "code",
      "execution_count": null,
      "metadata": {
        "id": "UOMdJcliDuoz"
      },
      "outputs": [],
      "source": [
        "type(n)     # El tipo de la variable n es 'srt' y no 'int'.\n",
        "n + 'x1'    # Aquí vemos que pasa cuando mezclamos distintos tipos de datos (algunos serán compatibles).\n"
      ]
    },
    {
      "cell_type": "markdown",
      "metadata": {
        "id": "4_LODF3xDuoz"
      },
      "source": [
        "## La Función help\n",
        "\n",
        "La función $\\normalsize \\color{green}{\\textsf{help}}$ toma cualquier función predefinida en el lenguaje Python como argumento y nos muestra su codigo. "
      ]
    },
    {
      "cell_type": "code",
      "execution_count": null,
      "metadata": {
        "id": "pTm9g-X0Duoz"
      },
      "outputs": [],
      "source": [
        "help(print)\n",
        "help(input)\n",
        "help(help)"
      ]
    },
    {
      "cell_type": "markdown",
      "metadata": {
        "id": "jj-EpqyiDuoz"
      },
      "source": [
        "# Algunas reglas para escribir programas en Python.\n",
        "\n",
        "\n",
        "Todos los lenguajes de programación requieren de un gramatica estricta. En general, cuando comentemos un error, directamente obtendremos un mensaje de error, en muy pocos casos, el programa continuara y generalmente generando \"peores\" errores. Debemos recordar que la gramatica de Python forzada para mejorar la legibilidad del codigo fuente.\n",
        "\n",
        "En Python la ejecución de un archivo $\\textit{.py}$ ejecutara cada linea del archivo, una luego de la otra."
      ]
    },
    {
      "cell_type": "markdown",
      "metadata": {
        "id": "GIybRA2rDuo0"
      },
      "source": [
        "**Regla 1.** Como ya hemos visto, para terminar una linea de instrucciones (comandos) debemos pasar a la linea siguiente, i.e. Python utiliza el salto de linea (otros lenguajes terminan los comandos utilizando symbolos como *';', ':', ':'*, etc...) *El salto de linea tiene un significado especial en Python*. Por ello, es *imposible* escribir dos comandos en la misma linea. "
      ]
    },
    {
      "cell_type": "code",
      "execution_count": null,
      "metadata": {
        "id": "FjCv-1niDuo0"
      },
      "outputs": [],
      "source": [
        "a=3  b=2 #Error"
      ]
    },
    {
      "cell_type": "code",
      "execution_count": null,
      "metadata": {
        "id": "2SbXp7G-Duo0"
      },
      "outputs": [],
      "source": [
        "a=3\n",
        "b=2"
      ]
    },
    {
      "cell_type": "markdown",
      "metadata": {
        "id": "CS-4qG43Duo0"
      },
      "source": [
        "En el siguiente ejemplo, escribimos una linea de codigo correcta. Sin embargo, es muy larga y dificulta la correcta lectura del programa."
      ]
    },
    {
      "cell_type": "code",
      "execution_count": null,
      "metadata": {
        "id": "xTZO9oKJDuo0"
      },
      "outputs": [],
      "source": [
        "print('Lorem ipsum dolor sit amet, consectetur adipiscing elit, sed do eiusmod tempor incididunt ut labore et dolore magna aliqua. Ut enim ad minim veniam, quis nostrud exercitation ullamco laboris nisi ut aliquip ex ea commodo consequat. Duis aute irure dolor in reprehenderit in voluptate velit esse cillum dolore eu fugiat nulla pariatur. Excepteur sint occaecat cupidatat non proident, sunt in culpa qui officia deserunt mollit anim id est laborum.')"
      ]
    },
    {
      "cell_type": "markdown",
      "metadata": {
        "id": "iTrweBJlDuo0"
      },
      "source": [
        "La solución inmediata seria pasar a la siguiente linea. Pero como los saltos de linea tienen un significado estructural, el interprete entiende la primer linea de comandos como incompleta generando un error. "
      ]
    },
    {
      "cell_type": "code",
      "execution_count": null,
      "metadata": {
        "id": "5bcMC5q5Duo1"
      },
      "outputs": [],
      "source": [
        "print('Lorem ipsum dolor sit amet, consectetur adipiscing elit, sed do eiusmod tempor incididunt\n",
        "      ut labore et dolore magna aliqua. Ut enim ad minim veniam, quis nostrud exercitation ullamco\n",
        "      laboris nisi ut aliquip ex ea commodo consequat. Duis aute irure dolor in reprehenderit\n",
        "      in voluptate velit esse cillum dolore eu fugiat nulla pariatur. Excepteur sint occaecat\n",
        "      cupidatat non proident, sunt in culpa qui officia deserunt mollit anim id est laborum.')"
      ]
    },
    {
      "cell_type": "markdown",
      "metadata": {
        "id": "6uNUXKCjDuo1"
      },
      "source": [
        "**Regla 2.** La forma que nos provee Python para lidear con esto, es omitir el salto de linea añadiendo la barra *'\\'* antes del salto de linea. Debemos tener en cuenta, que al utilizar la barra, todo lo que este despues de ella no será considerado (como si estuviera comentado, ver siguiente)."
      ]
    },
    {
      "cell_type": "code",
      "execution_count": null,
      "metadata": {
        "id": "t692lI46Duo1"
      },
      "outputs": [],
      "source": [
        "print('Lorem ipsum dolor sit amet, consectetur adipiscing elit, sed \\\n",
        "do eiusmod tempor incididunt ut labore et dolore\\\n",
        "magna aliqua. Ut enim ad minim veniam,\\\n",
        " quis nostrud exercitation ullamco \\\n",
        "laboris nisi ut aliquip ex ea commodo \\\n",
        "consequat. Duis aute irure dolor in reprehenderit\\\n",
        "in voluptate velit esse cillum dolore eu fugiat nulla pariatur. \\\n",
        "Excepteur sint occaecat cupidatat non proident,\\\n",
        "sunt in culpa qui officia deserunt mollit anim id est laborum.')"
      ]
    },
    {
      "cell_type": "markdown",
      "metadata": {
        "id": "rML8-kAVDuo1"
      },
      "source": [
        "**Regla 3.** Para añadir comentarios en el codigo fuente (mejora la legibilidad del programa) utilizamos el symbolo numeral **'#'**. Neutraliza todo lo que este escrito hasta el salto de linea. Python no provee ninguna facilidad para escribir comentarios largos, debemos escribir el symbolo numeral en cada linea donde se extiende el comentario. Una buena practica para mejorar la legibilidad de los comentarios largos, es no escribir codigo referido al comentario durante la extensión del mismo. "
      ]
    },
    {
      "cell_type": "code",
      "execution_count": null,
      "metadata": {
        "id": "o1YbOI1eDuo1"
      },
      "outputs": [],
      "source": [
        "a=1 # Asignamos 1 a la variable a\n",
        "a=1 # Re-asignamos el valor de a, podriamos  \n",
        "    # seguir escribiendo la finalidad de\n",
        "    # esta re-asignación, o continuar  \n",
        "    # ecribiendo sobre la instrucción a=1.\n",
        "a=1 # Nuevo Comentario."
      ]
    },
    {
      "cell_type": "markdown",
      "metadata": {
        "id": "tNoseLobDuo1"
      },
      "source": [
        "**Regla 4.** *Python es un lenguaje de programación indentado*. Esto significa que todas las lineas con comandos comienzan en el mismo lugar tienen el mismo *'status'* dentro de la lógica del programa. En otras palabras, *todos los espacios al comienzo de una linea tienen un significado* (excepto cuando usamos comentarios *'#'* ). "
      ]
    },
    {
      "cell_type": "code",
      "execution_count": null,
      "metadata": {
        "id": "bc_mqAdqDuo2"
      },
      "outputs": [],
      "source": [
        "2+3 # Funciona sin problemas "
      ]
    },
    {
      "cell_type": "code",
      "execution_count": null,
      "metadata": {
        "id": "bfSEIn4lDuo2"
      },
      "outputs": [],
      "source": [
        " 3+2 # Funciona sin problemas"
      ]
    },
    {
      "cell_type": "code",
      "execution_count": null,
      "metadata": {
        "id": "RXlZAer4Duo2"
      },
      "outputs": [],
      "source": [
        "2+3 \n",
        " 3+2 # Aquí la primera y segunda linea deben \n",
        "     # tener la misma indentación, porque no hay cambio \n",
        "     # en el flujo del programa como: \n",
        "     # ciclos, condicionales, definiciones, etc ... "
      ]
    },
    {
      "cell_type": "markdown",
      "metadata": {
        "id": "5WZNR8EKDuo2"
      },
      "source": [
        "## Condiciones\n",
        "\n",
        "Para utilizar las instrucciones condicionales, debemos usar los dos puntos **':'**. La diferentes palabras reservadas de la instrucción condicional son: $\\normalsize \\color{green}{\\textsf{if}}$, $\\normalsize \\color{green}{\\textsf{elif}}$ y $\\normalsize \\color{green}{\\textsf{else}}$.  "
      ]
    },
    {
      "cell_type": "code",
      "execution_count": null,
      "metadata": {
        "id": "EKuY-kvyDuo2"
      },
      "outputs": [],
      "source": [
        "if  0 == 0              # Error, faltan ':' \n",
        "    print('Problem')\n",
        "else: \n",
        "    print('No Problem')"
      ]
    },
    {
      "cell_type": "code",
      "execution_count": null,
      "metadata": {
        "id": "r0ScdewXDuo2"
      },
      "outputs": [],
      "source": [
        "if 0==1:\n",
        "print('Problem')# No olvidarse de la indentación \n",
        "                # En algunos IDE la indentación es automatica.\n",
        "else:\n",
        "    print('No Problem')"
      ]
    },
    {
      "cell_type": "code",
      "execution_count": null,
      "metadata": {
        "id": "whe8gGuqDuo2"
      },
      "outputs": [],
      "source": [
        "if 0==1:\n",
        "    print('Problem')\n",
        "    else: #\"if\", \"elif\", y \"else\" deben tener la misma indentación. \n",
        "    print('No Problem')"
      ]
    },
    {
      "cell_type": "code",
      "execution_count": null,
      "metadata": {
        "id": "npRQdG75Duo3"
      },
      "outputs": [],
      "source": [
        "if 0==1:\n",
        "    print('Problem')\n",
        "\n",
        "    else:                  # Error de Indentacion\n",
        "    print('No Problem')"
      ]
    },
    {
      "cell_type": "code",
      "execution_count": null,
      "metadata": {
        "id": "J9H7LRszDuo3"
      },
      "outputs": [],
      "source": [
        "# Un ejemplo de como usar multiples instrucciones if.\n",
        "\n",
        "n = int(input(\"Ingrese un número  :  \"))  # Ingresamos el número n\n",
        "\n",
        "if n%7==0:     # El mismo nivel de indentación para el \"if\", \"elif\", y \"else\".\n",
        "    print(n, \"el residuo es 0 modulo 7\")\n",
        "elif n%7==1: \n",
        "    print(n, \"el residuo es 1 modulo 7\")\n",
        "elif n%7==2:\n",
        "    print(n, \"el residuo es 2 modulo 7\")\n",
        "elif n%7==3:\n",
        "    print(n, \"el residuo es 3 modulo 7\")\n",
        "elif n%7==4:\n",
        "    print(n, \"el residuo es 4 modulo 7\")\n",
        "elif n%7==5:\n",
        "    print(n, \"el residuo es 5 modulo 7\")\n",
        "else:\n",
        "    print(n, \"el residuo es 6 modulo 7\")\n",
        "# Manera más corta de obtener el mismo resultado.\n",
        "n=int(input(\"Ingrese un número : \"))\n",
        "print(n,\" is congruent to \",n%7,\"modulo 7\")\n",
        "\n"
      ]
    },
    {
      "cell_type": "code",
      "execution_count": null,
      "metadata": {
        "id": "TbfcGNwsDuo3"
      },
      "outputs": [],
      "source": [
        "# Ejemplo de instrucciones condicionales anidadas.   \n",
        "n=int(input(\"Ingresar un número entre 8 y 49 para testear si es un número primo : \"))\n",
        "isprime=True\n",
        "if n<7:\n",
        "    print(\"Impossible! el número es muy pequeño.\")\n",
        "elif n>49:\n",
        "    print(\"Impossible! el número es demaciado grande.\")\n",
        "else:\n",
        "    if 2*(n//2)==n:\n",
        "        print(\"No es primo, \", n,\" es divisible por 2.\") # Tenemos tres niveles de indentación. \n",
        "        isprime=False\n",
        "    elif 3*(n//3)==n:\n",
        "        print(\"Not es primo, \", n,\" es divisible por 3.\")\n",
        "        isprime=False\n",
        "    elif 5*(n//5)==n:\n",
        "        print(\"Not es primo, \", n,\" es divisible por 5.\")\n",
        "        isprime=False\n",
        "    elif 7*(n//7)==n:\n",
        "        print(\"Not es primo, \",n,\" es divisible por 7.\")\n",
        "        isprime=False\n",
        "    else:\n",
        "        print(n,\" es primo.\")"
      ]
    }
  ],
  "metadata": {
    "anaconda-cloud": {},
    "celltoolbar": "Slideshow",
    "kernelspec": {
      "display_name": "Python 3",
      "language": "python",
      "name": "python3"
    },
    "language_info": {
      "codemirror_mode": {
        "name": "ipython",
        "version": 3
      },
      "file_extension": ".py",
      "mimetype": "text/x-python",
      "name": "python",
      "nbconvert_exporter": "python",
      "pygments_lexer": "ipython3",
      "version": "3.8.3"
    },
    "nbpresent": {
      "slides": {
        "6fd7db55-fcb2-4f93-abe8-3b8b8774e3a1": {
          "id": "6fd7db55-fcb2-4f93-abe8-3b8b8774e3a1",
          "prev": null,
          "regions": {
            "8a501b0f-e9cf-4c6c-8c59-08ef5391405a": {
              "attrs": {
                "height": 0.8,
                "width": 0.8,
                "x": 0.1,
                "y": 0.1
              },
              "content": {
                "cell": "40a7701e-a37f-426c-8fc9-f65b525a98ac",
                "part": "whole"
              },
              "id": "8a501b0f-e9cf-4c6c-8c59-08ef5391405a"
            }
          }
        }
      },
      "themes": {}
    },
    "colab": {
      "name": "Clase_1_Syntaxis_Basica.ipynb",
      "provenance": []
    }
  },
  "nbformat": 4,
  "nbformat_minor": 0
}